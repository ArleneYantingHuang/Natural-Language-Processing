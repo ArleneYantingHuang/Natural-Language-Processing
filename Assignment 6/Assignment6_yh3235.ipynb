{
  "nbformat": 4,
  "nbformat_minor": 0,
  "metadata": {
    "colab": {
      "name": "Assignment6_yh3235.ipynb",
      "provenance": [],
      "collapsed_sections": [
        "KnSvJlNXM86g",
        "JprQAQg3M86p",
        "G6lh9_fDM86y",
        "wueloDQ1M863",
        "Yj49ytuhM863",
        "90NP3loLM87D",
        "3jsf4a6MM87F",
        "8grskgiyM87G"
      ]
    },
    "kernelspec": {
      "display_name": "Python 3",
      "language": "python",
      "name": "python3"
    },
    "language_info": {
      "codemirror_mode": {
        "name": "ipython",
        "version": 3
      },
      "file_extension": ".py",
      "mimetype": "text/x-python",
      "name": "python",
      "nbconvert_exporter": "python",
      "pygments_lexer": "ipython3",
      "version": "3.8.3"
    }
  },
  "cells": [
    {
      "cell_type": "markdown",
      "metadata": {
        "colab_type": "text",
        "id": "lrI4u1b5M86e"
      },
      "source": [
        "# Part I Write a Python program based on the provided Class Exercise, which:"
      ]
    },
    {
      "cell_type": "markdown",
      "metadata": {
        "colab_type": "text",
        "id": "KnSvJlNXM86g"
      },
      "source": [
        "#### a) Loads the downloaded pre-trained Google Word2Vec model from your computer"
      ]
    },
    {
      "cell_type": "code",
      "metadata": {
        "ExecuteTime": {
          "end_time": "2020-07-12T23:28:04.857176Z",
          "start_time": "2020-07-12T23:27:23.701974Z"
        },
        "colab_type": "code",
        "id": "wKwjBZS-M86h",
        "colab": {
          "base_uri": "https://localhost:8080/",
          "height": 412
        },
        "outputId": "f44d172f-e808-4146-eab7-f45c9cfd350a"
      },
      "source": [
        "### load Word2Vec model\n",
        "\n",
        "import gensim, operator\n",
        "from scipy import spatial\n",
        "import numpy as np\n",
        "from gensim.models import KeyedVectors\n",
        "\n",
        "model_path = '/Users/arlenehuang/OneDrive - Columbia University/Summer 2020/APAN 5430/Assignment 6/'\n",
        "\n",
        "def load_wordvec_model(modelName, modelFile, flagBin):\n",
        "    print('Loading ' + modelName + ' model...')\n",
        "    model = KeyedVectors.load_word2vec_format(model_path + modelFile, binary=flagBin)\n",
        "    print('Finished loading ' + modelName + ' model...')\n",
        "    return model\n",
        "\n",
        "model_word2vec = load_wordvec_model('Word2Vec', 'GoogleNews-vectors-negative300.bin.gz', True)"
      ],
      "execution_count": null,
      "outputs": [
        {
          "output_type": "stream",
          "text": [
            "Loading Word2Vec model...\n",
            "Finished loading Word2Vec model...\n"
          ],
          "name": "stdout"
        }
      ]
    },
    {
      "cell_type": "markdown",
      "metadata": {
        "colab_type": "text",
        "id": "JprQAQg3M86p"
      },
      "source": [
        "#### b) Loads your previously obtained dataset of Webhose news articles"
      ]
    },
    {
      "cell_type": "code",
      "metadata": {
        "ExecuteTime": {
          "end_time": "2020-07-12T23:28:38.838053Z",
          "start_time": "2020-07-12T23:28:38.195426Z"
        },
        "colab_type": "code",
        "id": "GPz0_uYeM86q",
        "colab": {}
      },
      "source": [
        "### read webhose data into newsfeeds\n",
        "import json\n",
        "json_data = open(\"webhose_Citigroup.json\").readlines()\n",
        "newsfeeds = []\n",
        "for lines in json_data:\n",
        "    newsfeeds.append(json.loads(lines))"
      ],
      "execution_count": null,
      "outputs": []
    },
    {
      "cell_type": "code",
      "metadata": {
        "ExecuteTime": {
          "end_time": "2020-07-12T23:28:39.607291Z",
          "start_time": "2020-07-12T23:28:39.591992Z"
        },
        "colab_type": "code",
        "id": "M-umreruM86u",
        "colab": {},
        "outputId": "41093777-d574-4a7d-bf60-9b6eccea05fd"
      },
      "source": [
        "newsfeeds[1]"
      ],
      "execution_count": null,
      "outputs": [
        {
          "output_type": "execute_result",
          "data": {
            "text/plain": [
              "{'thread': {'uuid': '4fbfdd930f5a0684da8f0b37ca8a364cda02c716',\n",
              "  'url': 'https://rocklandregister.com/2020/06/13/esperion-therapeutics-espr-buy-rating-reaffirmed-at-credit-suisse-group.html',\n",
              "  'site_full': 'rocklandregister.com',\n",
              "  'site': 'rocklandregister.com',\n",
              "  'site_section': 'https://rocklandregister.com/rss',\n",
              "  'site_categories': ['media'],\n",
              "  'section_title': 'Rockland Register',\n",
              "  'title': 'Esperion Therapeutics’ (ESPR) Buy Rating Reaffirmed at Credit Suisse Group',\n",
              "  'title_full': 'Esperion Therapeutics’ (ESPR) Buy Rating Reaffirmed at Credit Suisse Group',\n",
              "  'published': '2020-06-13T16:36:00.000+03:00',\n",
              "  'replies_count': 0,\n",
              "  'participants_count': 1,\n",
              "  'site_type': 'news',\n",
              "  'country': 'US',\n",
              "  'spam_score': 0.0,\n",
              "  'main_image': 'https://www.marketbeat.com/logos/esperion-therapeutics-inc-logo.png',\n",
              "  'performance_score': 0,\n",
              "  'domain_rank': None,\n",
              "  'social': {'facebook': {'likes': 0, 'comments': 0, 'shares': 0},\n",
              "   'gplus': {'shares': 0},\n",
              "   'pinterest': {'shares': 0},\n",
              "   'linkedin': {'shares': 0},\n",
              "   'stumbledupon': {'shares': 0},\n",
              "   'vk': {'shares': 0}}},\n",
              " 'uuid': '4fbfdd930f5a0684da8f0b37ca8a364cda02c716',\n",
              " 'url': 'https://rocklandregister.com/2020/06/13/esperion-therapeutics-espr-buy-rating-reaffirmed-at-credit-suisse-group.html',\n",
              " 'ord_in_thread': 0,\n",
              " 'parent_url': None,\n",
              " 'author': 'Harvey Truce',\n",
              " 'published': '2020-06-13T16:36:00.000+03:00',\n",
              " 'title': 'Esperion Therapeutics’ (ESPR) Buy Rating Reaffirmed at Credit Suisse Group',\n",
              " 'text': \"Credit Suisse Group reiterated their buy rating on shares of Esperion Therapeutics (NASDAQ:ESPR) in a research report released on Tuesday morning, TipRanks reports. Credit Suisse Group currently has a $87.00 target price on the biopharmaceutical company’s stock.\\nOther equities research analysts have also recently issued research reports about the stock. JPMorgan Chase & Co. raised their price objective on shares of Esperion Therapeutics from $46.00 to $47.00 and gave the company a neutral rating in a research report on Friday, February 28th. Citigroup raised their target price on shares of Esperion Therapeutics from $46.00 to $56.00 and gave the company a buy rating in a research note on Thursday, May 7th. Bank of America started coverage on shares of Esperion Therapeutics in a research note on Wednesday, April 1st. They issued a buy rating and a $50.00 target price on the stock. Cowen reaffirmed a buy rating and issued a $87.00 target price on shares of Esperion Therapeutics in a research note on Thursday, February 27th. Finally, Jefferies Financial Group reduced their target price on shares of Esperion Therapeutics from $85.00 to $70.00 and set a buy rating on the stock in a research note on Thursday, May 7th. One research analyst has rated the stock with a sell rating, four have given a hold rating and eleven have assigned a buy rating to the company. The company has a consensus rating of Buy and a consensus price target of $78.86. Get Esperion Therapeutics alerts:\\nESPR opened at $43.48 on Tuesday. The company has a debt-to-equity ratio of 0.06, a quick ratio of 2.33 and a current ratio of 2.35. Esperion Therapeutics has a 1-year low of $24.82 and a 1-year high of $76.98. The firm has a 50-day moving average price of $43.10 and a two-hundred day moving average price of $48.66. Esperion Therapeutics (NASDAQ:ESPR) last posted its quarterly earnings data on Wednesday, May 6th. The biopharmaceutical company reported ($2.84) earnings per share for the quarter, beating the consensus estimate of ($3.14) by $0.30. The firm had revenue of $1.80 million during the quarter, compared to analysts’ expectations of $0.39 million. Esperion Therapeutics had a negative net margin of 5,492.02% and a negative return on equity of 627.38%. The company’s quarterly revenue was down 98.8% compared to the same quarter last year. During the same quarter last year, the company posted $3.07 EPS. As a group, equities research analysts predict that Esperion Therapeutics will post -5.35 earnings per share for the current year.\\nA number of institutional investors have recently added to or reduced their stakes in the stock. Raymond James Financial Services Advisors Inc. boosted its stake in Esperion Therapeutics by 1.6% during the 4th quarter. Raymond James Financial Services Advisors Inc. now owns 12,661 shares of the biopharmaceutical company’s stock worth $755,000 after acquiring an additional 200 shares during the last quarter. Tower Research Capital LLC TRC boosted its stake in Esperion Therapeutics by 21.2% during the 4th quarter. Tower Research Capital LLC TRC now owns 1,361 shares of the biopharmaceutical company’s stock worth $81,000 after acquiring an additional 238 shares during the last quarter. Baird Financial Group Inc. boosted its stake in Esperion Therapeutics by 1.6% during the 4th quarter. Baird Financial Group Inc. now owns 18,829 shares of the biopharmaceutical company’s stock worth $1,123,000 after acquiring an additional 305 shares during the last quarter. Ladenburg Thalmann Financial Services Inc. boosted its stake in Esperion Therapeutics by 68.1% during the 4th quarter. Ladenburg Thalmann Financial Services Inc. now owns 1,348 shares of the biopharmaceutical company’s stock worth $80,000 after acquiring an additional 546 shares during the last quarter. Finally, Victory Capital Management Inc. boosted its stake in Esperion Therapeutics by 5.0% during the 4th quarter. Victory Capital Management Inc. now owns 14,909 shares of the biopharmaceutical company’s stock worth $889,000 after acquiring an additional 707 shares during the last quarter.\\nAbout Esperion Therapeutics\\nEsperion Therapeutics, Inc, a lipid management company, focuses on developing and commercializing oral therapies for the treatment of patients with elevated low density lipoprotein cholesterol (LDL-C). Its lead product candidate is bempedoic acid/ezetimibe combination pill, a non-statin, orally available, LDL-C lowering therapy for patients with hypercholesterolemia and with atherosclerotic cardiovascular disease, and/or heterozygous familial hypercholesterolemia that is in Phase III long-term safety and tolerability study. Receive News & Ratings for Esperion Therapeutics Daily - Enter your email address below to receive a concise daily summary of the latest news and analysts' ratings for Esperion Therapeutics and related companies with MarketBeat.com's FREE daily email newsletter . «\",\n",
              " 'highlightText': '',\n",
              " 'highlightTitle': '',\n",
              " 'highlightThreadTitle': '',\n",
              " 'language': 'english',\n",
              " 'external_links': ['https://www.marketbeat.com/stocks/NASDAQ/ESPR/price-target',\n",
              "  'https://www.marketbeat.com/stocks/NASDAQ/ESPR/price-target/',\n",
              "  'https://www.tipranks.com/api/liveFeeds/getTopWithMetadata/',\n",
              "  'https://tipranks.com/api/liveFeeds/getTopWithMetadata/?benchmark=none&experttype=1&ranking=1&notRanked=-1&period=year&top=300&includeRatingsPreview=buy,sell&break=1591774424864/',\n",
              "  'https://www.tipranks.com/api/liveFeeds/getTopWithMetadata/?benchmark=none&experttype=1&ranking=1&notRanked=-1&period=year&top=300&includeRatingsPreview=buy,sell&break=1591774424864/',\n",
              "  'https://www.tipranks.com/api/liveFeeds/getTopWithMetadata/?benchmark=none&experttype=1&ranking=1&notRanked=-1&period=year&top=300&includeRatingsPreview=buy,sell&break=1591774424864',\n",
              "  'https://marketbeat.com/newsletter/default.aspx',\n",
              "  'https://www.marketbeat.com/newsletter/default.aspx',\n",
              "  'https://marketbeat.com/stocks/NASDAQ/ESPR/price-target/'],\n",
              " 'external_images': [],\n",
              " 'entities': {'persons': [{'name': 'cowen', 'sentiment': 'none'}],\n",
              "  'organizations': [{'name': 'credit suisse group credit suisse group',\n",
              "    'sentiment': 'none'},\n",
              "   {'name': 'esperion therapeutics', 'sentiment': 'none'},\n",
              "   {'name': 'bank of america', 'sentiment': 'none'},\n",
              "   {'name': 'citigroup', 'sentiment': 'none'},\n",
              "   {'name': 'jpmorgan chase & co.', 'sentiment': 'none'},\n",
              "   {'name': 'jefferies financial group', 'sentiment': 'none'},\n",
              "   {'name': 'credit suisse group', 'sentiment': 'none'}],\n",
              "  'locations': []},\n",
              " 'rating': None,\n",
              " 'crawled': '2020-06-13T18:06:13.003+03:00',\n",
              " 'updated': '2020-06-13T18:06:13.003+03:00'}"
            ]
          },
          "metadata": {
            "tags": []
          },
          "execution_count": 28
        }
      ]
    },
    {
      "cell_type": "markdown",
      "metadata": {
        "colab_type": "text",
        "id": "G6lh9_fDM86y"
      },
      "source": [
        "#### c) For any one selected article title from the dataset, finds 100 most similar titles based on Word2Vec similarity, prints those titles in the reverse order of similarity scores"
      ]
    },
    {
      "cell_type": "code",
      "metadata": {
        "ExecuteTime": {
          "end_time": "2020-07-12T23:28:43.072369Z",
          "start_time": "2020-07-12T23:28:43.050699Z"
        },
        "colab_type": "code",
        "id": "2-Co-CznM86y",
        "colab": {}
      },
      "source": [
        "# define a function\n",
        "\n",
        "def vec_similarity(input1, input2, vectors):\n",
        "    term_vectors = [np.zeros(300), np.zeros(300)]\n",
        "    terms = [input1, input2]\n",
        "        \n",
        "    for index, term in enumerate(terms):\n",
        "        for i, t in enumerate(term.split(' ')):\n",
        "            try:\n",
        "                term_vectors[index] += vectors[t]\n",
        "            except:\n",
        "                term_vectors[index] += 0\n",
        "        \n",
        "    result = (1 - spatial.distance.cosine(term_vectors[0], term_vectors[1]))\n",
        "    if result == 'nan':\n",
        "        result = 0\n",
        "        \n",
        "    return result\n",
        "\n",
        "def vocab_check(vectors, words):\n",
        "    \n",
        "    output = list()\n",
        "    for word in words:\n",
        "        if word in vectors.vocab:\n",
        "            output.append(word.strip())\n",
        "            \n",
        "    return output\n",
        "\n",
        "def calc_similarity(input1, input2, vectors):\n",
        "    s1words = set(vocab_check(vectors, input1.split()))\n",
        "    s2words = set(vocab_check(vectors, input2.split()))\n",
        "    \n",
        "    output = vectors.n_similarity(s1words, s2words)\n",
        "    return output\n",
        "\n",
        "def get_100_similar_titles(dataset, num_of_target_article):\n",
        "    similarities = []\n",
        "    title = dataset[num_of_target_article]['title']\n",
        "    \n",
        "    for i in range(len(dataset)):\n",
        "        news_title = dataset[i]['title']\n",
        "        similarity = calc_similarity(title, news_title, model_word2vec)\n",
        "        similarities.append(similarity)\n",
        "    \n",
        "    import heapq\n",
        "    max_num_index = map(similarities.index, heapq.nlargest(101,similarities))\n",
        "\n",
        "    print('\\033[1m' + '\\033[4m' + 'The 100 Most Similar Titles Of Article: ', title + '\\033[0m')\n",
        "    num = 0\n",
        "    for j in max_num_index:\n",
        "        if similarities[j] != 1 :\n",
        "            num += 1\n",
        "            print('No.', num)\n",
        "            print('title: ', newsfeeds[j]['title'])\n",
        "            print('similarity: ', similarities[j])"
      ],
      "execution_count": null,
      "outputs": []
    },
    {
      "cell_type": "code",
      "metadata": {
        "ExecuteTime": {
          "end_time": "2020-07-12T23:28:45.487656Z",
          "start_time": "2020-07-12T23:28:43.948825Z"
        },
        "colab_type": "code",
        "id": "w6Nj6RpqM861",
        "colab": {},
        "outputId": "00f8bf12-8ba1-4cb4-c9c3-479412faf0c9"
      },
      "source": [
        "# apply it\n",
        "get_100_similar_titles(newsfeeds, 188)"
      ],
      "execution_count": null,
      "outputs": [
        {
          "output_type": "stream",
          "text": [
            "\u001b[1m\u001b[4mThe 100 Most Similar Titles Of Article:  Neurocrine Biosciences (NASDAQ:NBIX) Earns Outperform Rating from Analysts at Wedbush\u001b[0m\n",
            "No. 1\n",
            "title:  Intercept Pharmaceuticals (NASDAQ:ICPT) Earns Buy Rating from Wedbush\n",
            "similarity:  0.83997256\n",
            "No. 2\n",
            "title:  Wedbush Reiterates Buy Rating for BioMarin Pharmaceutical (NASDAQ:BMRN)\n",
            "similarity:  0.8227078\n",
            "No. 3\n",
            "title:  Despegar.com (NYSE:DESP) Earns Buy Rating from Analysts at Citigroup\n",
            "similarity:  0.8179383\n",
            "No. 4\n",
            "title:  Despegar.com (NYSE:DESP) Earns Buy Rating from Analysts at Citigroup\n",
            "similarity:  0.8179383\n",
            "No. 5\n",
            "title:  Globant (NYSE:GLOB) Earns Overweight Rating from Analysts at Piper Sandler\n",
            "similarity:  0.81530195\n",
            "No. 6\n",
            "title:  BioMarin Pharmaceutical’s (BMRN) Buy Rating Reiterated at Wedbush\n",
            "similarity:  0.81173915\n",
            "No. 7\n",
            "title:  Zoetis (NYSE:ZTS) Earns Buy Rating from Analysts at Jefferies Financial Group\n",
            "similarity:  0.8091602\n",
            "No. 8\n",
            "title:  UnitedHealth Group (NYSE:UNH) Earns Buy Rating from Analysts at Goldman Sachs Group\n",
            "similarity:  0.8089978\n",
            "No. 9\n",
            "title:  Macerich (NYSE:MAC) Earns Neutral Rating from Analysts at Compass Point\n",
            "similarity:  0.80653524\n",
            "No. 10\n",
            "title:  Cooper Companies (NYSE:COO) Earns Hold Rating from Analysts at Oppenheimer\n",
            "similarity:  0.8022572\n",
            "No. 11\n",
            "title:  BIO-TECHNE (NASDAQ:TECH) Earns Buy Rating from Analysts at Benchmark\n",
            "similarity:  0.79958874\n",
            "No. 12\n",
            "title:  BIO-TECHNE (NASDAQ:TECH) Earns Buy Rating from Analysts at Benchmark\n",
            "similarity:  0.79958874\n",
            "No. 13\n",
            "title:  Oppenheimer Reiterates Outperform Rating for Nasdaq (NASDAQ:NDAQ)\n",
            "similarity:  0.7974675\n",
            "No. 14\n",
            "title:  PhaseBio Pharmaceuticals Inc (NASDAQ:PHAS) Receives Average Rating of “Buy” from Analysts\n",
            "similarity:  0.7956704\n",
            "No. 15\n",
            "title:  Syndax Pharmaceuticals (NASDAQ:SNDX) Earns Buy Rating from Nomura\n",
            "similarity:  0.7950254\n",
            "No. 16\n",
            "title:  Costco Wholesale (NASDAQ:COST) Earns Buy Rating from Analysts at Oppenheimer\n",
            "similarity:  0.79362047\n",
            "No. 17\n",
            "title:  Costco Wholesale (NASDAQ:COST) Earns Buy Rating from Analysts at Oppenheimer\n",
            "similarity:  0.79362047\n",
            "No. 18\n",
            "title:  American Airlines Group (NASDAQ:AAL) Earns Outperform Rating from Cowen\n",
            "similarity:  0.7934514\n",
            "No. 19\n",
            "title:  Okta (NASDAQ:OKTA) Earns Hold Rating from Analysts at Needham & Company LLC\n",
            "similarity:  0.7926876\n",
            "No. 20\n",
            "title:  Silk Road Medical (NASDAQ:SILK) Earns Buy Rating from Analysts at Citigroup\n",
            "similarity:  0.79231215\n",
            "No. 21\n",
            "title:  Hyve Group (LON:HYVE) Earns Hold Rating from Analysts at Liberum Capital\n",
            "similarity:  0.79081565\n",
            "No. 22\n",
            "title:  Amkor Technology, Inc. (NASDAQ:AMKR) Receives Consensus Rating of \"Hold\" from Analysts\n",
            "similarity:  0.787161\n",
            "No. 23\n",
            "title:  AstraZeneca (LON:AZN) Receives Outperform Rating from Credit Suisse Group\n",
            "similarity:  0.78467697\n",
            "No. 24\n",
            "title:  General Dynamics (NYSE:GD) Earns Buy Rating from Analysts at Seaport Global Securities\n",
            "similarity:  0.7813774\n",
            "No. 25\n",
            "title:  Neurocrine Biosciences (NASDAQ:NBIX) Downgraded to “Buy” at BidaskClub\n",
            "similarity:  0.77943444\n",
            "No. 26\n",
            "title:  Neurocrine Biosciences (NASDAQ:NBIX) Downgraded to “Buy” at BidaskClub\n",
            "similarity:  0.77943444\n",
            "No. 27\n",
            "title:  DTE Energy (NYSE:DTE) Earns Buy Rating from Analysts at Seaport Global Securities\n",
            "similarity:  0.7744303\n",
            "No. 28\n",
            "title:  AMC Entertainment (NYSE:AMC) Receives Hold Rating from Wedbush\n",
            "similarity:  0.76731765\n",
            "No. 29\n",
            "title:  AMC Entertainment (NYSE:AMC) Receives Hold Rating from Wedbush\n",
            "similarity:  0.76731765\n",
            "No. 30\n",
            "title:  AMC Entertainment (NYSE:AMC) Receives Hold Rating from Wedbush\n",
            "similarity:  0.76731765\n",
            "No. 31\n",
            "title:  Amarin (NASDAQ:AMRN) Earns Buy Rating from Cowen\n",
            "similarity:  0.76726097\n",
            "No. 32\n",
            "title:  Intercept Pharmaceuticals (NASDAQ:ICPT) Rating Lowered to Outperform at Raymond James\n",
            "similarity:  0.7652153\n",
            "No. 33\n",
            "title:  Advanced Energy Industries, Inc. (NASDAQ:AEIS) Receives Consensus Rating of “Hold” from Analysts\n",
            "similarity:  0.76342547\n",
            "No. 34\n",
            "title:  Intercept Pharmaceuticals (NASDAQ:ICPT) Stock Rating Reaffirmed by Wedbush\n",
            "similarity:  0.76256466\n",
            "No. 35\n",
            "title:  CarGurus (NASDAQ:CARG) Downgraded to Neutral at Citigroup\n",
            "similarity:  0.75966746\n",
            "No. 36\n",
            "title:  CarGurus (NASDAQ:CARG) Downgraded to Neutral at Citigroup\n",
            "similarity:  0.75966746\n",
            "No. 37\n",
            "title:  Dicerna Pharmaceuticals Inc (NASDAQ:DRNA) Receives Consensus Rating of “Buy” from Brokerages\n",
            "similarity:  0.7593357\n",
            "No. 38\n",
            "title:  ROYAL MAIL PLC/ADR (OTCMKTS:ROYMY) Earns Underperform Rating from Analysts at Bank of America\n",
            "similarity:  0.7583277\n",
            "No. 39\n",
            "title:  TD Ameritrade (NASDAQ:AMTD) Downgraded to Underperform at Wolfe Research\n",
            "similarity:  0.7560545\n",
            "No. 40\n",
            "title:  Ollie's Bargain Outlet (NASDAQ:OLLI) Earns Buy Rating from Analysts at Goldman Sachs Group\n",
            "similarity:  0.7535014\n",
            "No. 41\n",
            "title:  FY2021 EPS Estimates for Dicerna Pharmaceuticals Inc (NASDAQ:DRNA) Raised by Analyst\n",
            "similarity:  0.75305617\n",
            "No. 42\n",
            "title:  AMC Entertainment’s (AMC) Hold Rating Reaffirmed at Wedbush\n",
            "similarity:  0.7527367\n",
            "No. 43\n",
            "title:  Broadcom (NASDAQ:AVGO) Earns Reduce Rating from Analysts at Loop Capital\n",
            "similarity:  0.7515842\n",
            "No. 44\n",
            "title:  Broadcom (NASDAQ:AVGO) Earns Reduce Rating from Analysts at Loop Capital\n",
            "similarity:  0.7515842\n",
            "No. 45\n",
            "title:  AstraZeneca (LON:AZN) Earns Overweight Rating from JPMorgan Chase & Co.\n",
            "similarity:  0.7512698\n",
            "No. 46\n",
            "title:  Keysight Technologies Inc (NYSE:KEYS) Receives Average Rating of “Buy” from Analysts\n",
            "similarity:  0.74606687\n",
            "No. 47\n",
            "title:  Nexa Resources (NYSE:NEXA) Rating Lowered to Underperform at BMO Capital Markets\n",
            "similarity:  0.7440077\n",
            "No. 48\n",
            "title:  Ionis Pharmaceuticals Inc (NASDAQ:IONS) Receives $74.21 Average Price Target from Analysts\n",
            "similarity:  0.7424165\n",
            "No. 49\n",
            "title:  Infinera (NASDAQ:INFN) Earns Hold Rating from Rosenblatt Securities\n",
            "similarity:  0.7419066\n",
            "No. 50\n",
            "title:  MacroGenics (NASDAQ:MGNX) Shares Up 2.6% After Analyst Upgrade\n",
            "similarity:  0.74167806\n",
            "No. 51\n",
            "title:  BlackRock, Inc. (NYSE:BLK) Receives Average Rating of “Buy” from Analysts\n",
            "similarity:  0.73899907\n",
            "No. 52\n",
            "title:  Entergy Co. (NYSE:ETR) Receives Consensus Rating of “Buy” from Analysts\n",
            "similarity:  0.73870605\n",
            "No. 53\n",
            "title:  Xylem (NYSE:XYL) Earns Hold Rating from Oppenheimer\n",
            "similarity:  0.7378744\n",
            "No. 54\n",
            "title:  WH Smith (LON:SMWH) Earns Outperform Rating from Royal Bank of Canada\n",
            "similarity:  0.73765147\n",
            "No. 55\n",
            "title:  SYSMEX CORP/ADR (OTCMKTS:SSMXY) Rating Increased to Outperform at Daiwa Capital Markets\n",
            "similarity:  0.7369915\n",
            "No. 56\n",
            "title:  SYSMEX CORP/ADR (OTCMKTS:SSMXY) Rating Increased to Outperform at Daiwa Capital Markets\n",
            "similarity:  0.7369915\n",
            "No. 57\n",
            "title:  Wedbush Equities Analysts Reduce Earnings Estimates for Toll Brothers Inc (NYSE:TOL)\n",
            "similarity:  0.73627996\n",
            "No. 58\n",
            "title:  Vodafone Group (LON:VOD) Receives Outperform Rating from Credit Suisse Group\n",
            "similarity:  0.734853\n",
            "No. 59\n",
            "title:  Vodafone Group (LON:VOD) Receives Outperform Rating from Credit Suisse Group\n",
            "similarity:  0.734853\n",
            "No. 60\n",
            "title:  AllianceBernstein Holding LP (NYSE:AB) Receives Consensus Rating of “Hold” from Analysts\n",
            "similarity:  0.73430747\n",
            "No. 61\n",
            "title:  Forterra (LON:FORT) Earns Buy Rating from Deutsche Bank\n",
            "similarity:  0.734181\n",
            "No. 62\n",
            "title:  Sanmina Corp (NASDAQ:SANM) Receives $30.00 Consensus Target Price from Analysts\n",
            "similarity:  0.73404825\n",
            "No. 63\n",
            "title:  Abbott Laboratories (NYSE:ABT) Earns Buy Rating from Credit Suisse Group\n",
            "similarity:  0.7330025\n",
            "No. 64\n",
            "title:  B&M EURO VALUE/ADR (OTCMKTS:BMRRY) Receives Neutral Rating from Citigroup\n",
            "similarity:  0.73298603\n",
            "No. 65\n",
            "title:  B&M EURO VALUE/ADR (OTCMKTS:BMRRY) Receives Neutral Rating from Citigroup\n",
            "similarity:  0.73298603\n",
            "No. 66\n",
            "title:  Amkor Technology (NASDAQ:AMKR) Earns Sell Rating from\n",
            "similarity:  0.73281705\n",
            "No. 67\n",
            "title:  Amkor Technology (NASDAQ:AMKR) Earns Sell Rating from\n",
            "similarity:  0.73281705\n",
            "No. 68\n",
            "title:  Siemens Gamesa Renewable Energy (OTCMKTS:GCTAF) Earns Buy Rating from Analysts at Citigroup\n",
            "similarity:  0.7325828\n",
            "No. 69\n",
            "title:  SIG (LON:SHI) Earns Hold Rating from Liberum Capital\n",
            "similarity:  0.73214316\n",
            "No. 70\n",
            "title:  Prudential (LON:PRU) Earns Buy Rating from UBS Group\n",
            "similarity:  0.7314804\n",
            "No. 71\n",
            "title:  Prudential (LON:PRU) Earns Buy Rating from UBS Group\n",
            "similarity:  0.7314804\n",
            "No. 72\n",
            "title:  Citigroup Reaffirms Neutral Rating for Cellnex Telecom (OTCMKTS:CLNXF)\n",
            "similarity:  0.73101693\n",
            "No. 73\n",
            "title:  Citigroup Reaffirms Neutral Rating for Cellnex Telecom (OTCMKTS:CLNXF)\n",
            "similarity:  0.73101693\n",
            "No. 74\n",
            "title:  CSFB Reiterates Buy Rating for Medtronic (NYSE:MDT)\n",
            "similarity:  0.7304945\n",
            "No. 75\n",
            "title:  CIT Group (NYSE:CIT) Upgraded to Outperform at BMO Capital Markets\n",
            "similarity:  0.7299024\n",
            "No. 76\n",
            "title:  Citrix Systems, Inc. (NASDAQ:CTXS) Receives $144.25 Average PT from Analysts\n",
            "similarity:  0.7296826\n",
            "No. 77\n",
            "title:  Centene Corp (NYSE:CNC) Receives $82.78 Average PT from Analysts\n",
            "similarity:  0.7286404\n",
            "No. 78\n",
            "title:  Syndax Pharmaceuticals (NASDAQ:SNDX) Rating Increased to Buy at Zacks Investment Research\n",
            "similarity:  0.7282459\n",
            "No. 79\n",
            "title:  Syndax Pharmaceuticals (NASDAQ:SNDX) Rating Increased to Buy at Zacks Investment Research\n",
            "similarity:  0.7282459\n",
            "No. 80\n",
            "title:  Syndax Pharmaceuticals (NASDAQ:SNDX) Rating Increased to Buy at Zacks Investment Research\n",
            "similarity:  0.7282459\n",
            "No. 81\n",
            "title:  Criteo SA (NASDAQ:CRTO) Receives Average Rating of \"Hold\" from Analysts\n",
            "similarity:  0.72824305\n",
            "No. 82\n",
            "title:  American Tower (NYSE:AMT) Rating Increased to Outperform at Oppenheimer\n",
            "similarity:  0.72798914\n",
            "No. 83\n",
            "title:  Johnson Matthey (LON:JMAT) Earns Buy Rating from Citigroup\n",
            "similarity:  0.72793037\n",
            "No. 84\n",
            "title:  Arrow Electronics, Inc. (NYSE:ARW) Receives Average Rating of \"Hold\" from Analysts\n",
            "similarity:  0.72683483\n",
            "No. 85\n",
            "title:  Calithera Biosciences (NASDAQ:CALA) Rating Lowered to Hold at BidaskClub\n",
            "similarity:  0.72625893\n",
            "No. 86\n",
            "title:  Oppenheimer Reiterates \"Hold\" Rating for Millendo Therapeutics (NASDAQ:MLND)\n",
            "similarity:  0.7261286\n",
            "No. 87\n",
            "title:  Wedbush Equities Analysts Decrease Earnings Estimates for Nordstrom, Inc. (NYSE:JWN)\n",
            "similarity:  0.72501975\n",
            "No. 88\n",
            "title:  Neurocrine Biosciences (NASDAQ:NBIX) Rating Increased to Strong-Buy at BidaskClub\n",
            "similarity:  0.72455144\n",
            "No. 89\n",
            "title:  CSR (OTCMKTS:CSRLF) Downgraded to Neutral at Citigroup\n",
            "similarity:  0.7243438\n",
            "No. 90\n",
            "title:  Novartis AG (NYSE:NVS) Receives $105.25 Average PT from Analysts\n",
            "similarity:  0.7233707\n",
            "No. 91\n",
            "title:  CF Industries (NYSE:CF) Downgraded to Underperform at Bank of America\n",
            "similarity:  0.7227914\n",
            "No. 92\n",
            "title:  CymaBay Therapeutics (NASDAQ:CBAY) Rating Increased to Buy at Stifel Nicolaus\n",
            "similarity:  0.7226068\n",
            "No. 93\n",
            "title:  Schlumberger (NYSE:SLB) Receives New Coverage from Analysts at Northland Securities\n",
            "similarity:  0.72233784\n",
            "No. 94\n",
            "title:  ON Semiconductor (NASDAQ:ON) Receives New Coverage from Analysts at Rosenblatt Securities\n",
            "similarity:  0.7220294\n",
            "No. 95\n",
            "title:  Whitbread’s (WTB) Neutral Rating Reaffirmed at Citigroup\n",
            "similarity:  0.7218183\n",
            "No. 96\n",
            "title:  Whitbread’s (WTB) Neutral Rating Reaffirmed at Citigroup\n",
            "similarity:  0.7218183\n",
            "No. 97\n",
            "title:  Whitbread’s (WTB) Neutral Rating Reaffirmed at Citigroup\n",
            "similarity:  0.7218183\n",
            "No. 98\n",
            "title:  Nice (NASDAQ:NICE) Earns Buy Rating from Rosenblatt Securities\n",
            "similarity:  0.7214431\n",
            "No. 99\n",
            "title:  Victrex (LON:VCT) Earns “Sell” Rating from Citigroup\n",
            "similarity:  0.72141135\n",
            "No. 100\n",
            "title:  10x Genomics (NYSE:TXG) Rating Lowered to Hold at Zacks Investment Research\n",
            "similarity:  0.72139484\n"
          ],
          "name": "stdout"
        }
      ]
    },
    {
      "cell_type": "markdown",
      "metadata": {
        "colab_type": "text",
        "id": "wueloDQ1M863"
      },
      "source": [
        "# Part II Write a Pyspark program based on the other provided Class Exercise, which:"
      ]
    },
    {
      "cell_type": "markdown",
      "metadata": {
        "colab_type": "text",
        "id": "Yj49ytuhM863"
      },
      "source": [
        "#### a) Loads your previously obtained dataset of Webhose news articles into a Spark dataframe"
      ]
    },
    {
      "cell_type": "code",
      "metadata": {
        "colab_type": "code",
        "id": "_k5DlqzSNgQk",
        "colab": {}
      },
      "source": [
        "#pip install pyspark"
      ],
      "execution_count": 2,
      "outputs": []
    },
    {
      "cell_type": "code",
      "metadata": {
        "ExecuteTime": {
          "end_time": "2020-07-12T22:27:37.306600Z",
          "start_time": "2020-07-12T22:27:33.393003Z"
        },
        "colab_type": "code",
        "id": "HI2oMsSCM864",
        "colab": {
          "base_uri": "https://localhost:8080/",
          "height": 34
        },
        "outputId": "68f18a66-a7c9-4452-fa41-0bf115c8fdb8"
      },
      "source": [
        "from pyspark import SparkContext\n",
        "from pyspark.sql import SQLContext\n",
        "sc = SparkContext() \n",
        "sqlContext = SQLContext(sc)\n",
        "from pyspark.mllib.linalg import Vector, Vectors\n",
        "from pyspark.mllib.clustering import LDA, LDAModel\n",
        "from nltk.stem.wordnet import WordNetLemmatizer\n",
        "from pyspark.ml.feature import RegexTokenizer, StopWordsRemover, Word2Vec\n",
        "\n",
        "print(\"Using Apache Spark Version\", sc.version)"
      ],
      "execution_count": 3,
      "outputs": [
        {
          "output_type": "stream",
          "text": [
            "Using Apache Spark Version 3.0.0\n"
          ],
          "name": "stdout"
        }
      ]
    },
    {
      "cell_type": "code",
      "metadata": {
        "ExecuteTime": {
          "end_time": "2020-07-12T22:33:31.794898Z",
          "start_time": "2020-07-12T22:33:30.771369Z"
        },
        "colab_type": "code",
        "id": "UtdruUXiM867",
        "colab": {
          "base_uri": "https://localhost:8080/",
          "height": 340
        },
        "outputId": "807fd40e-6806-42d8-e1d4-e533700ef55d"
      },
      "source": [
        "crunchbase_df = sqlContext.read.option(\"header\", \"true\").option(\"delimiter\", \",\") \\\n",
        "                    .option(\"inferSchema\", \"true\") \\\n",
        "                    .json(\"/Users/arlenehuang/OneDrive - Columbia University/Summer 2020/APAN 5430/Assignment 6/webhose_Citigroup.json\")\n",
        "crunchbase_df.columns"
      ],
      "execution_count": 5,
      "outputs": [
        {
          "output_type": "execute_result",
          "data": {
            "text/plain": [
              "['author',\n",
              " 'crawled',\n",
              " 'entities',\n",
              " 'external_images',\n",
              " 'external_links',\n",
              " 'highlightText',\n",
              " 'highlightThreadTitle',\n",
              " 'highlightTitle',\n",
              " 'language',\n",
              " 'ord_in_thread',\n",
              " 'parent_url',\n",
              " 'published',\n",
              " 'rating',\n",
              " 'text',\n",
              " 'thread',\n",
              " 'title',\n",
              " 'updated',\n",
              " 'url',\n",
              " 'uuid']"
            ]
          },
          "metadata": {
            "tags": []
          },
          "execution_count": 5
        }
      ]
    },
    {
      "cell_type": "code",
      "metadata": {
        "colab_type": "code",
        "id": "k4nYwDbxM87A",
        "colab": {}
      },
      "source": [
        "crunchbase_data = crunchbase_df['uuid','title','text']"
      ],
      "execution_count": 6,
      "outputs": []
    },
    {
      "cell_type": "code",
      "metadata": {
        "colab_type": "code",
        "id": "0L4hJCc9N6i3",
        "colab": {
          "base_uri": "https://localhost:8080/",
          "height": 204
        },
        "outputId": "85e1aba3-0f04-4443-e695-a264a023407d"
      },
      "source": [
        "crunchbase_columns = [0,1,2]\n",
        "crunchbase_rdd = crunchbase_data.select('*') \\\n",
        "                       .rdd.map(lambda row: [row[i] for i in crunchbase_columns]) \\\n",
        "                       .filter(lambda row: row[2] is not None)\n",
        "crunchbase_df = sqlContext.createDataFrame(crunchbase_rdd, \n",
        "                                           ['uuid','title','text'])\n",
        "crunchbase_df.show(5)"
      ],
      "execution_count": 7,
      "outputs": [
        {
          "output_type": "stream",
          "text": [
            "+--------------------+--------------------+--------------------+\n",
            "|                uuid|               title|                text|\n",
            "+--------------------+--------------------+--------------------+\n",
            "|efe37c1b78ac4e480...|It’s like the Wil...|Tales of out-of-w...|\n",
            "|4fbfdd930f5a0684d...|Esperion Therapeu...|Credit Suisse Gro...|\n",
            "|6fc2347180fc2ba32...|Why Citi is the l...|The Members Excha...|\n",
            "|b61d35ac80ccbb587...|Centene (NYSE:CNC...|Centene (NYSE:CNC...|\n",
            "|1b07dc8633ab2ce32...|CVS Health (NYSE:...|CVS Health (NYSE:...|\n",
            "+--------------------+--------------------+--------------------+\n",
            "only showing top 5 rows\n",
            "\n"
          ],
          "name": "stdout"
        }
      ]
    },
    {
      "cell_type": "markdown",
      "metadata": {
        "colab_type": "text",
        "id": "90NP3loLM87D"
      },
      "source": [
        "#### b) Cleans up and tokenizes article bodies using the RegexTokenizer and Stopword remover functions provided in the Class Exercise"
      ]
    },
    {
      "cell_type": "code",
      "metadata": {
        "colab_type": "code",
        "id": "TJXSPX-NM87E",
        "colab": {}
      },
      "source": [
        "import spacy\n",
        "import en_core_web_sm\n",
        "nlp = en_core_web_sm.load( disable=['parser', 'tagger','ner'] )\n",
        "\n",
        "def cleanup_pretokenize(text):\n",
        "    #text = re.sub(r'^https?:\\/\\/.*[\\r\\n]*', '', text, flags=re.MULTILINE)\n",
        "    text = re.sub(r'http\\S+', '', text)\n",
        "    text = text.replace(\"'s\", \" \")\n",
        "    text = text.replace(\"n't\", \" not \")\n",
        "    text = text.replace(\"'ve\", \" have \")\n",
        "    text = text.replace(\"'re\", \" are \")\n",
        "    text = text.replace(\"I'm\",\" I am \")\n",
        "    text = text.replace(\"you're\",\" you are \")\n",
        "    text = text.replace(\"You're\",\" You are \")\n",
        "    text = text.replace(\"-\",\" \")\n",
        "    text = text.replace(\"/\",\" \")\n",
        "    text = text.replace(\"(\",\" \")\n",
        "    text = text.replace(\")\",\" \")\n",
        "    text = text.replace(\"%\",\" percent \")\n",
        "    return text\n",
        "\n",
        "lmtzr = WordNetLemmatizer()\n",
        "def text_cleanup(row):\n",
        "    desc = row[2].strip().lower()\n",
        "    tokens = [w.lemma_ for w in nlp(cleanup_pretokenize(desc))]\n",
        "    tokens = [token for token in tokens if token.isalpha()]\n",
        "    tokens = [token for token in tokens if len(token) > 3]\n",
        "    #tokens = [lmtzr.lemmatize(token,'v') for token in tokens]\n",
        "    row[2] = ' '.join(tokens)\n",
        "    return row\n",
        "\n",
        "regexTokenizer = RegexTokenizer(gaps = False, pattern = '\\w+', inputCol = 'text', outputCol = 'tokens')\n",
        "swr = StopWordsRemover(inputCol = 'tokens', outputCol = 'tokens_sw_removed')"
      ],
      "execution_count": 8,
      "outputs": []
    },
    {
      "cell_type": "code",
      "metadata": {
        "colab_type": "code",
        "id": "NO976a_VOhvL",
        "colab": {
          "base_uri": "https://localhost:8080/",
          "height": 170
        },
        "outputId": "d5fec1d8-f9ee-4fe5-db19-4d503ef29066"
      },
      "source": [
        "df_tokens = regexTokenizer.transform(crunchbase_df)\n",
        "desc_swr = swr.transform(df_tokens)\n",
        "desc_swr.show(3)"
      ],
      "execution_count": 9,
      "outputs": [
        {
          "output_type": "stream",
          "text": [
            "+--------------------+--------------------+--------------------+--------------------+--------------------+\n",
            "|                uuid|               title|                text|              tokens|   tokens_sw_removed|\n",
            "+--------------------+--------------------+--------------------+--------------------+--------------------+\n",
            "|efe37c1b78ac4e480...|It’s like the Wil...|Tales of out-of-w...|[tales, of, out, ...|[tales, work, 20,...|\n",
            "|4fbfdd930f5a0684d...|Esperion Therapeu...|Credit Suisse Gro...|[credit, suisse, ...|[credit, suisse, ...|\n",
            "|6fc2347180fc2ba32...|Why Citi is the l...|The Members Excha...|[the, members, ex...|[members, exchang...|\n",
            "+--------------------+--------------------+--------------------+--------------------+--------------------+\n",
            "only showing top 3 rows\n",
            "\n"
          ],
          "name": "stdout"
        }
      ]
    },
    {
      "cell_type": "markdown",
      "metadata": {
        "colab_type": "text",
        "id": "3jsf4a6MM87F"
      },
      "source": [
        "#### c) Trains a Word2Vec model based on the output column produced in step 2"
      ]
    },
    {
      "cell_type": "code",
      "metadata": {
        "colab_type": "code",
        "id": "swEw0J5hM87F",
        "colab": {
          "base_uri": "https://localhost:8080/",
          "height": 204
        },
        "outputId": "c738872d-9e4e-454c-a52a-7637c675e30c"
      },
      "source": [
        "word2vec = Word2Vec(vectorSize = 300, minCount = 5, inputCol = 'tokens_sw_removed', outputCol = 'wordvectors')\n",
        "model = word2vec.fit(desc_swr)\n",
        "wordvectors = model.transform(desc_swr)\n",
        "crunchbase_desc = wordvectors.select('uuid','text','wordvectors').rdd.toDF()\n",
        "crunchbase_desc.show(5)"
      ],
      "execution_count": 10,
      "outputs": [
        {
          "output_type": "stream",
          "text": [
            "+--------------------+--------------------+--------------------+\n",
            "|                uuid|                text|         wordvectors|\n",
            "+--------------------+--------------------+--------------------+\n",
            "|efe37c1b78ac4e480...|Tales of out-of-w...|[0.04399570427517...|\n",
            "|4fbfdd930f5a0684d...|Credit Suisse Gro...|[0.03478927901529...|\n",
            "|6fc2347180fc2ba32...|The Members Excha...|[0.06360735781774...|\n",
            "|b61d35ac80ccbb587...|Centene (NYSE:CNC...|[0.03624564075376...|\n",
            "|1b07dc8633ab2ce32...|CVS Health (NYSE:...|[0.04306173842644...|\n",
            "+--------------------+--------------------+--------------------+\n",
            "only showing top 5 rows\n",
            "\n"
          ],
          "name": "stdout"
        }
      ]
    },
    {
      "cell_type": "code",
      "metadata": {
        "colab_type": "code",
        "id": "iqgmKKO-RdGs",
        "colab": {
          "base_uri": "https://localhost:8080/",
          "height": 442
        },
        "outputId": "5a887d05-e37a-4f9d-f13d-c03bb0153744"
      },
      "source": [
        "synonyms = model.findSynonyms(\"facebook\", 20)   \n",
        "synonyms.show()"
      ],
      "execution_count": 11,
      "outputs": [
        {
          "output_type": "stream",
          "text": [
            "+---------+------------------+\n",
            "|     word|        similarity|\n",
            "+---------+------------------+\n",
            "|  twitter|0.9272628426551819|\n",
            "|   google|0.8422284722328186|\n",
            "|    south|0.8214764595031738|\n",
            "|    named|0.8141477108001709|\n",
            "|  protect|0.8031668663024902|\n",
            "| atlantic| 0.795950174331665|\n",
            "|  respond|0.7940086126327515|\n",
            "|   taking|0.7912166118621826|\n",
            "|  housing|0.7908703684806824|\n",
            "|    doesn|0.7855764031410217|\n",
            "|       mr|0.7767440676689148|\n",
            "|recycling|0.7756271362304688|\n",
            "| domestic|0.7734577059745789|\n",
            "| approach|   0.7730712890625|\n",
            "|   center|0.7693139314651489|\n",
            "|      rid|0.7688893675804138|\n",
            "|     best|0.7673935890197754|\n",
            "|      bet|0.7669375538825989|\n",
            "|   rights|0.7655760645866394|\n",
            "|  purpose| 0.763039767742157|\n",
            "+---------+------------------+\n",
            "\n"
          ],
          "name": "stdout"
        }
      ]
    },
    {
      "cell_type": "markdown",
      "metadata": {
        "colab_type": "text",
        "id": "8grskgiyM87G"
      },
      "source": [
        "#### d) Implements any sample search query, as shown in Class Exercise, and produces matching article titles"
      ]
    },
    {
      "cell_type": "code",
      "metadata": {
        "colab_type": "code",
        "id": "Iu5SpoP_UCV-",
        "colab": {}
      },
      "source": [
        "chunk = crunchbase_desc.take(50000)\n",
        "\n",
        "def cossim(v1, v2): \n",
        "    return np.dot(v1, v2) / np.sqrt(np.dot(v1, v1)) / (np.sqrt(np.dot(v2, v2))+.1)"
      ],
      "execution_count": 13,
      "outputs": []
    },
    {
      "cell_type": "markdown",
      "metadata": {
        "colab_type": "text",
        "id": "Mst7sSEHVaDE"
      },
      "source": [
        "Version 1: same as class excise"
      ]
    },
    {
      "cell_type": "code",
      "metadata": {
        "colab_type": "code",
        "id": "4vrLNJdOM87H",
        "colab": {}
      },
      "source": [
        "SEARCH_QUERY = \"CVS Health\""
      ],
      "execution_count": 14,
      "outputs": []
    },
    {
      "cell_type": "code",
      "metadata": {
        "colab_type": "code",
        "id": "dNKEhHIcM87J",
        "colab": {
          "base_uri": "https://localhost:8080/",
          "height": 119
        },
        "outputId": "8ad8f0d3-06fa-4747-adbe-4bbeb476dc71"
      },
      "source": [
        "query_df  = sc.parallelize([(1,SEARCH_QUERY)]).toDF(['index','text'])\n",
        "query_tok = regexTokenizer.transform(query_df)\n",
        "query_swr = swr.transform(query_tok)\n",
        "query_swr.show()\n",
        "query_vec = model.transform(query_swr)\n",
        "query_vec = query_vec.select('wordvectors').collect()[0][0]"
      ],
      "execution_count": 15,
      "outputs": [
        {
          "output_type": "stream",
          "text": [
            "+-----+----------+-------------+-----------------+\n",
            "|index|      text|       tokens|tokens_sw_removed|\n",
            "+-----+----------+-------------+-----------------+\n",
            "|    1|CVS Health|[cvs, health]|    [cvs, health]|\n",
            "+-----+----------+-------------+-----------------+\n",
            "\n"
          ],
          "name": "stdout"
        }
      ]
    },
    {
      "cell_type": "code",
      "metadata": {
        "colab_type": "code",
        "id": "b6JEg78ST6n6",
        "colab": {
          "base_uri": "https://localhost:8080/",
          "height": 510
        },
        "outputId": "407af4ca-f9ba-4c04-d6cd-299df090366b"
      },
      "source": [
        "import numpy as np\n",
        "\n",
        "sim_rdd = sc.parallelize((i[0], i[1], float(cossim(query_vec, i[2]))) for i in chunk)\n",
        "sim_df  = sqlContext.createDataFrame(sim_rdd).\\\n",
        "                   withColumnRenamed('_1', 'uuid').\\\n",
        "                   withColumnRenamed('_2', 'title').\\\n",
        "                   withColumnRenamed('_3', 'similarity').\\\n",
        "                   orderBy(\"similarity\", ascending = False)\n",
        "sim_df.show(20, truncate = True)"
      ],
      "execution_count": 16,
      "outputs": [
        {
          "output_type": "stream",
          "text": [
            "+--------------------+--------------------+-------------------+\n",
            "|                uuid|               title|         similarity|\n",
            "+--------------------+--------------------+-------------------+\n",
            "|53c96fd686936e216...|$3.90 4.72\n",
            "Citigr...| 0.4664175021366124|\n",
            "|96dbeb28b6e17b625...|Retail Banking Ma...|0.45110269133003483|\n",
            "|ac1b5727abae0287e...|Neobanking Market...| 0.4451130883259087|\n",
            "|5f0a416f899b9d88e...|NEW YORK and TEL ...| 0.4108399286968714|\n",
            "|857653dcb5879692b...|By Nisha Gopalan\n",
            "...|0.37709951763493144|\n",
            "|15488d0b142da1897...|I returned to the...| 0.3697382785591337|\n",
            "|cd7255b75a7286733...|The office isn't ...| 0.3677985453920586|\n",
            "|0f1214735390c72e0...|by Maurício Angel...| 0.3646207685124295|\n",
            "|1616b88e77f89cefe...|More\n",
            "By NISHA GOP...| 0.3641083809090477|\n",
            "|18b126621b8c6f143...|By A.R. Shaw | Ju...|0.35992534563836137|\n",
            "|65555cdad7b11c897...|Banks including H...|0.35775898390072575|\n",
            "|b24989ab7cc065ef4...|Difference betwee...|0.34633115365477807|\n",
            "|bfaa716284689fc0c...|In a time of a gl...| 0.3421369138343288|\n",
            "|1ba71f2895d1def40...|By Chauncey Alcor...| 0.3285230243855074|\n",
            "|bd9832f71703f32ae...|New York (CNN Bus...| 0.3250059991223071|\n",
            "|e74b1ad09c02765eb...|New York (CNN Bus...| 0.3249168952700354|\n",
            "|31e4a111677a2bb23...|Corporate America...| 0.3244138016731376|\n",
            "|e9c8a643cf54bbaeb...|HSBC and Standard...| 0.3195984751480852|\n",
            "|8078b72981c86ed56...|Banks including H...| 0.3180865797241174|\n",
            "|b0be460e59ac80fc4...|FILE PHOTO: Logos...|0.31763882829511075|\n",
            "+--------------------+--------------------+-------------------+\n",
            "only showing top 20 rows\n",
            "\n"
          ],
          "name": "stdout"
        }
      ]
    },
    {
      "cell_type": "markdown",
      "metadata": {
        "colab_type": "text",
        "id": "zwIZwTaAVwVP"
      },
      "source": [
        "Version 1: using input function"
      ]
    },
    {
      "cell_type": "code",
      "metadata": {
        "colab_type": "code",
        "id": "s2wGlFzSVy21",
        "colab": {
          "base_uri": "https://localhost:8080/",
          "height": 527
        },
        "outputId": "043e253a-ee85-4232-b5fb-aa46ffeb0cb9"
      },
      "source": [
        "SEARCH_QUERY = input(\"search query: \")\n",
        "\n",
        "query_df  = sc.parallelize([(1,SEARCH_QUERY)]).toDF(['index','text'])\n",
        "query_tok = regexTokenizer.transform(query_df)\n",
        "query_swr = swr.transform(query_tok)\n",
        "query_vec = model.transform(query_swr)\n",
        "query_vec = query_vec.select('wordvectors').collect()[0][0]\n",
        "\n",
        "import numpy as np\n",
        "\n",
        "sim_rdd = sc.parallelize((i[0], i[1], float(cossim(query_vec, i[2]))) for i in chunk)\n",
        "sim_df  = sqlContext.createDataFrame(sim_rdd).\\\n",
        "                   withColumnRenamed('_1', 'uuid').\\\n",
        "                   withColumnRenamed('_2', 'title').\\\n",
        "                   withColumnRenamed('_3', 'similarity').\\\n",
        "                   orderBy(\"similarity\", ascending = False)\n",
        "sim_df.show(20, truncate = True)"
      ],
      "execution_count": 17,
      "outputs": [
        {
          "output_type": "stream",
          "text": [
            "search query: CVS Health\n",
            "+--------------------+--------------------+-------------------+\n",
            "|                uuid|               title|         similarity|\n",
            "+--------------------+--------------------+-------------------+\n",
            "|53c96fd686936e216...|$3.90 4.72\n",
            "Citigr...| 0.4664175021366124|\n",
            "|96dbeb28b6e17b625...|Retail Banking Ma...|0.45110269133003483|\n",
            "|ac1b5727abae0287e...|Neobanking Market...| 0.4451130883259087|\n",
            "|5f0a416f899b9d88e...|NEW YORK and TEL ...| 0.4108399286968714|\n",
            "|857653dcb5879692b...|By Nisha Gopalan\n",
            "...|0.37709951763493144|\n",
            "|15488d0b142da1897...|I returned to the...| 0.3697382785591337|\n",
            "|cd7255b75a7286733...|The office isn't ...| 0.3677985453920586|\n",
            "|0f1214735390c72e0...|by Maurício Angel...| 0.3646207685124295|\n",
            "|1616b88e77f89cefe...|More\n",
            "By NISHA GOP...| 0.3641083809090477|\n",
            "|18b126621b8c6f143...|By A.R. Shaw | Ju...|0.35992534563836137|\n",
            "|65555cdad7b11c897...|Banks including H...|0.35775898390072575|\n",
            "|b24989ab7cc065ef4...|Difference betwee...|0.34633115365477807|\n",
            "|bfaa716284689fc0c...|In a time of a gl...| 0.3421369138343288|\n",
            "|1ba71f2895d1def40...|By Chauncey Alcor...| 0.3285230243855074|\n",
            "|bd9832f71703f32ae...|New York (CNN Bus...| 0.3250059991223071|\n",
            "|e74b1ad09c02765eb...|New York (CNN Bus...| 0.3249168952700354|\n",
            "|31e4a111677a2bb23...|Corporate America...| 0.3244138016731376|\n",
            "|e9c8a643cf54bbaeb...|HSBC and Standard...| 0.3195984751480852|\n",
            "|8078b72981c86ed56...|Banks including H...| 0.3180865797241174|\n",
            "|b0be460e59ac80fc4...|FILE PHOTO: Logos...|0.31763882829511075|\n",
            "+--------------------+--------------------+-------------------+\n",
            "only showing top 20 rows\n",
            "\n"
          ],
          "name": "stdout"
        }
      ]
    }
  ]
}