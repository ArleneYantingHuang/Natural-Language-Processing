{
 "cells": [
  {
   "cell_type": "code",
   "execution_count": 5,
   "metadata": {
    "ExecuteTime": {
     "end_time": "2020-07-06T23:16:23.702408Z",
     "start_time": "2020-07-06T23:16:23.679474Z"
    }
   },
   "outputs": [],
   "source": [
    "import gensim, operator\n",
    "from scipy import spatial\n",
    "import numpy as np\n",
    "from gensim.models import KeyedVectors\n",
    "\n",
    "model_path = '/Users/arlenehuang/OneDrive - Columbia University/Summer 2020/APAN 5430/Assignment 6/'"
   ]
  },
  {
   "cell_type": "code",
   "execution_count": 6,
   "metadata": {
    "ExecuteTime": {
     "end_time": "2020-07-06T23:17:09.852017Z",
     "start_time": "2020-07-06T23:16:26.610172Z"
    }
   },
   "outputs": [
    {
     "name": "stdout",
     "output_type": "stream",
     "text": [
      "Loading Word2Vec model...\n",
      "Finished loading Word2Vec model...\n"
     ]
    }
   ],
   "source": [
    "def load_wordvec_model(modelName, modelFile, flagBin):\n",
    "    print('Loading ' + modelName + ' model...')\n",
    "    model = KeyedVectors.load_word2vec_format(model_path + modelFile, binary=flagBin)\n",
    "    print('Finished loading ' + modelName + ' model...')\n",
    "    return model\n",
    "\n",
    "model_word2vec = load_wordvec_model('Word2Vec', 'GoogleNews-vectors-negative300.bin.gz', True)\n",
    "#model_word2vec = load_wordvec_model('Word2Vec', 'webhose_skipgram_300.bin', True)"
   ]
  },
  {
   "cell_type": "code",
   "execution_count": 8,
   "metadata": {
    "ExecuteTime": {
     "end_time": "2020-07-06T23:17:33.577319Z",
     "start_time": "2020-07-06T23:17:33.571030Z"
    }
   },
   "outputs": [],
   "source": [
    "def vec_similarity(input1, input2, vectors):\n",
    "    term_vectors = [np.zeros(300), np.zeros(300)]\n",
    "    terms = [input1, input2]\n",
    "        \n",
    "    for index, term in enumerate(terms):\n",
    "        for i, t in enumerate(term.split(' ')):\n",
    "            try:\n",
    "                term_vectors[index] += vectors[t]\n",
    "            except:\n",
    "                term_vectors[index] += 0\n",
    "        \n",
    "    result = (1 - spatial.distance.cosine(term_vectors[0], term_vectors[1]))\n",
    "    if result == 'nan':\n",
    "        result = 0\n",
    "        \n",
    "    return result"
   ]
  },
  {
   "cell_type": "code",
   "execution_count": 9,
   "metadata": {
    "ExecuteTime": {
     "end_time": "2020-07-06T23:17:37.023241Z",
     "start_time": "2020-07-06T23:17:37.016741Z"
    }
   },
   "outputs": [],
   "source": [
    "# function checks whether the input words are present in the vocabulary for the model\n",
    "def vocab_check(vectors, words):\n",
    "    \n",
    "    output = list()\n",
    "    for word in words:\n",
    "        if word in vectors.vocab:\n",
    "            output.append(word.strip())\n",
    "            \n",
    "    return output"
   ]
  },
  {
   "cell_type": "code",
   "execution_count": 11,
   "metadata": {
    "ExecuteTime": {
     "end_time": "2020-07-06T23:18:16.445271Z",
     "start_time": "2020-07-06T23:18:16.439358Z"
    }
   },
   "outputs": [],
   "source": [
    "# function calculates similarity between two strings using a particular word vector model\n",
    "def calc_similarity(input1, input2, vectors):\n",
    "    s1words = set(vocab_check(vectors, input1.split()))\n",
    "    s2words = set(vocab_check(vectors, input2.split()))\n",
    "    \n",
    "    output = vectors.n_similarity(s1words, s2words)\n",
    "    return output"
   ]
  },
  {
   "cell_type": "code",
   "execution_count": 19,
   "metadata": {
    "ExecuteTime": {
     "end_time": "2020-07-06T23:22:56.185829Z",
     "start_time": "2020-07-06T23:22:56.177666Z"
    }
   },
   "outputs": [
    {
     "name": "stdout",
     "output_type": "stream",
     "text": [
      "Los Angeles LA 0.45676568\n",
      "Los Angeles NY 0.09257374\n",
      "New York NY 0.27941707\n",
      "New York LA 0.13928081\n"
     ]
    }
   ],
   "source": [
    "if __name__ == '__main__':\n",
    "    # example using Word2Vec\n",
    "    str1 = 'Los Angeles'\n",
    "    str2 = 'New York'\n",
    "    str3 = 'LA'\n",
    "    str4 = 'NY'\n",
    "    output1 = calc_similarity(str1, str3, model_word2vec)\n",
    "    print(str1, str3, output1)\n",
    "    output1 = calc_similarity(str1, str4, model_word2vec)\n",
    "    print(str1, str4, output1)\n",
    "    output1 = calc_similarity(str2, str4, model_word2vec)\n",
    "    print(str2, str4, output1)\n",
    "    output1 = calc_similarity(str2, str3, model_word2vec)\n",
    "    print(str2, str3, output1)"
   ]
  },
  {
   "cell_type": "code",
   "execution_count": 20,
   "metadata": {
    "ExecuteTime": {
     "end_time": "2020-07-06T23:23:33.483339Z",
     "start_time": "2020-07-06T23:23:33.470968Z"
    }
   },
   "outputs": [
    {
     "name": "stdout",
     "output_type": "stream",
     "text": [
      "0.41551766\n",
      "0.24020785\n"
     ]
    }
   ],
   "source": [
    "    output2 = calc_similarity('university', \n",
    "                              \"education\", model_word2vec)\n",
    "    print(output2)\n",
    "    output2 = calc_similarity('university', \n",
    "                              \"military\", model_word2vec)\n",
    "    print(output2)\n"
   ]
  },
  {
   "cell_type": "code",
   "execution_count": null,
   "metadata": {},
   "outputs": [],
   "source": []
  }
 ],
 "metadata": {
  "kernelspec": {
   "display_name": "Python 3",
   "language": "python",
   "name": "python3"
  },
  "language_info": {
   "codemirror_mode": {
    "name": "ipython",
    "version": 3
   },
   "file_extension": ".py",
   "mimetype": "text/x-python",
   "name": "python",
   "nbconvert_exporter": "python",
   "pygments_lexer": "ipython3",
   "version": "3.8.3"
  }
 },
 "nbformat": 4,
 "nbformat_minor": 2
}
