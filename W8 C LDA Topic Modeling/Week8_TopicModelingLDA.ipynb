{
 "cells": [
  {
   "cell_type": "code",
   "execution_count": 3,
   "metadata": {
    "ExecuteTime": {
     "end_time": "2020-07-25T20:52:48.971081Z",
     "start_time": "2020-07-25T20:52:42.453284Z"
    }
   },
   "outputs": [
    {
     "ename": "KeyError",
     "evalue": "'WEBHOSE_TOKEN'",
     "output_type": "error",
     "traceback": [
      "\u001b[0;31m---------------------------------------------------------------------------\u001b[0m",
      "\u001b[0;31mKeyError\u001b[0m                                  Traceback (most recent call last)",
      "\u001b[0;32m<ipython-input-3-c3c44e5e6eb9>\u001b[0m in \u001b[0;36m<module>\u001b[0;34m\u001b[0m\n\u001b[1;32m      7\u001b[0m \u001b[0mstopwords\u001b[0m \u001b[0;34m=\u001b[0m \u001b[0mset\u001b[0m\u001b[0;34m(\u001b[0m\u001b[0mnltk\u001b[0m\u001b[0;34m.\u001b[0m\u001b[0mcorpus\u001b[0m\u001b[0;34m.\u001b[0m\u001b[0mstopwords\u001b[0m\u001b[0;34m.\u001b[0m\u001b[0mwords\u001b[0m\u001b[0;34m(\u001b[0m\u001b[0;34m'english'\u001b[0m\u001b[0;34m)\u001b[0m\u001b[0;34m)\u001b[0m\u001b[0;34m\u001b[0m\u001b[0;34m\u001b[0m\u001b[0m\n\u001b[1;32m      8\u001b[0m \u001b[0;34m\u001b[0m\u001b[0m\n\u001b[0;32m----> 9\u001b[0;31m \u001b[0mwebhoseio\u001b[0m\u001b[0;34m.\u001b[0m\u001b[0mconfig\u001b[0m\u001b[0;34m(\u001b[0m\u001b[0mtoken\u001b[0m\u001b[0;34m=\u001b[0m\u001b[0mos\u001b[0m\u001b[0;34m.\u001b[0m\u001b[0menviron\u001b[0m\u001b[0;34m[\u001b[0m\u001b[0;34m'WEBHOSE_TOKEN'\u001b[0m\u001b[0;34m]\u001b[0m\u001b[0;34m)\u001b[0m\u001b[0;34m\u001b[0m\u001b[0;34m\u001b[0m\u001b[0m\n\u001b[0m\u001b[1;32m     10\u001b[0m query_params = {\n\u001b[1;32m     11\u001b[0m     \u001b[0;34m\"q\"\u001b[0m\u001b[0;34m:\u001b[0m \u001b[0;34m\"organization:Tesla\"\u001b[0m\u001b[0;34m,\u001b[0m\u001b[0;34m\u001b[0m\u001b[0;34m\u001b[0m\u001b[0m\n",
      "\u001b[0;32m/Library/Frameworks/Python.framework/Versions/3.8/lib/python3.8/os.py\u001b[0m in \u001b[0;36m__getitem__\u001b[0;34m(self, key)\u001b[0m\n\u001b[1;32m    673\u001b[0m         \u001b[0;32mexcept\u001b[0m \u001b[0mKeyError\u001b[0m\u001b[0;34m:\u001b[0m\u001b[0;34m\u001b[0m\u001b[0;34m\u001b[0m\u001b[0m\n\u001b[1;32m    674\u001b[0m             \u001b[0;31m# raise KeyError with the original key value\u001b[0m\u001b[0;34m\u001b[0m\u001b[0;34m\u001b[0m\u001b[0;34m\u001b[0m\u001b[0m\n\u001b[0;32m--> 675\u001b[0;31m             \u001b[0;32mraise\u001b[0m \u001b[0mKeyError\u001b[0m\u001b[0;34m(\u001b[0m\u001b[0mkey\u001b[0m\u001b[0;34m)\u001b[0m \u001b[0;32mfrom\u001b[0m \u001b[0;32mNone\u001b[0m\u001b[0;34m\u001b[0m\u001b[0;34m\u001b[0m\u001b[0m\n\u001b[0m\u001b[1;32m    676\u001b[0m         \u001b[0;32mreturn\u001b[0m \u001b[0mself\u001b[0m\u001b[0;34m.\u001b[0m\u001b[0mdecodevalue\u001b[0m\u001b[0;34m(\u001b[0m\u001b[0mvalue\u001b[0m\u001b[0;34m)\u001b[0m\u001b[0;34m\u001b[0m\u001b[0;34m\u001b[0m\u001b[0m\n\u001b[1;32m    677\u001b[0m \u001b[0;34m\u001b[0m\u001b[0m\n",
      "\u001b[0;31mKeyError\u001b[0m: 'WEBHOSE_TOKEN'"
     ]
    }
   ],
   "source": [
    "import webhoseio, os\n",
    "from sklearn.feature_extraction.text import CountVectorizer\n",
    "from sklearn.decomposition import LatentDirichletAllocation\n",
    "import nltk, re\n",
    "from nltk.stem.wordnet import WordNetLemmatizer\n",
    "\n",
    "stopwords = set(nltk.corpus.stopwords.words('english'))\n",
    "\n",
    "webhoseio.config(token=os.environ['WEBHOSE_TOKEN'])\n",
    "query_params = {\n",
    "    \"q\": \"organization:Tesla\",\n",
    "    \"ts\": \"1523748602856\",\n",
    "    \"sort\": \"crawled\"\n",
    "}"
   ]
  },
  {
   "cell_type": "code",
   "execution_count": 2,
   "metadata": {},
   "outputs": [],
   "source": [
    "# be careful how many times you make this call\n",
    "# get the first batch\n",
    "output = webhoseio.query(\"filterWebContent\", query_params)"
   ]
  },
  {
   "cell_type": "code",
   "execution_count": 3,
   "metadata": {},
   "outputs": [
    {
     "name": "stdout",
     "output_type": "stream",
     "text": [
      "Google Alert - vacation|||2019-09-23T02:11:00.000+03:00\n",
      "Tesla Vows Sustainable Profitability As Quarterly Loss Blows Past Expectations|||2019-09-23T10:25:00.000+03:00\n",
      "Scant Liquidity, Continued Spending And Inflated Deposits Highlight Tesla's 10-Q Disclosures|||2019-09-23T10:25:00.000+03:00\n",
      "Tesla CEO Elon Musk pours cold water on fans waiting for Model S, Model X refresh (ejcy)|||2019-09-23T03:00:00.000+03:00\n",
      "Elon Musk’s potential $56-billion payday must be defended by Tesla board in court|||2019-09-23T13:05:00.000+03:00\n",
      "Elon Musk’s potential $56-billion payday must be defended by Tesla board in court|||2019-09-23T13:05:00.000+03:00\n",
      "Convertible BMW E30 Gets New Life With Volt Battery, Tesla Motor Swap|||2019-09-23T15:09:00.000+03:00\n",
      "Is the Tesla 3 a realistic option for a regular commute from Cardiff to Heathrow?|||2019-09-23T13:07:00.000+03:00\n",
      "Tesla Driver Arrested After Reportedly Driving to Oakland the Wrong Way on the Bay Bridge|||2019-09-23T03:00:00.000+03:00\n",
      "Reliability of high-resolution ultrasound and magnetic resonance arthrography of the shoulder in patients with sports-related shoulder injuries|||2019-09-23T16:00:00.000+03:00\n",
      "Dream|||2019-09-23T20:30:00.000+03:00\n",
      "Tesla Model 3 Becomes Best Selling Car in the Netherlands|||2019-09-23T11:29:00.000+03:00\n",
      "Twitter bans financial scams in new policy - CNET|||2019-09-23T03:00:00.000+03:00\n",
      "Tesla’s Dog Mode Helps Owner Dismiss Animal Cruelty Charge|||2019-09-23T23:53:00.000+03:00\n",
      "SolarCity was insolvent when Tesla paid $2.6 billion to buy it, lawsuit says|||2019-09-24T00:28:00.000+03:00\n",
      "Fatal Las Vegas crash driver charged with DUI|||2019-09-23T23:33:00.000+03:00\n",
      "SEC asks judge to hold Tesla CEO Elon Musk in contempt for violating deal (vbuo)|||2019-09-24T03:00:00.000+03:00\n",
      "Tesla's Musk pushed for SolarCity deal despite major cash crunch - lawsuit|||2019-09-23T03:00:00.000+03:00\n",
      "Tesla's Musk pushed for SolarCity deal despite major cash crunch: lawsuit|||2019-09-24T01:51:00.000+03:00\n",
      "Elon Musk knew SolarCity was going broke before merger with Tesla, lawsuit alleges|||2019-09-24T05:22:00.000+03:00\n",
      "Tesla's Musk pushed for SolarCity deal despite major cash crunch: Lawsuit, Energy News, ET EnergyWorld|||2019-09-24T03:00:00.000+03:00\n",
      "Tesla's Musk pushed for SolarCity deal despite major...|||2019-09-24T07:14:00.000+03:00\n",
      "Jason Del Vicario discusses Tesla - Video - BNN|||2019-09-23T03:00:00.000+03:00\n",
      "In More Enlightened Times, Elon Musk Would Be in the Dock|||2019-09-24T03:18:00.000+03:00\n",
      "Elon Musk knew SolarCity was going broke before merger with Tesla, lawsuit alleges | Automotive News|||2019-09-23T03:00:00.000+03:00\n",
      "Elon Musk knew SolarCity was going broke before merger with Tesla, lawsuit alleges|||2019-09-23T03:00:00.000+03:00\n",
      "Sudo-mašina TESLA WD460M|||2019-09-24T10:50:00.000+03:00\n",
      "Sudo-masina TESLA WD460MX|||2019-09-24T10:50:00.000+03:00\n",
      "Sky turns blood red in Indonesia|||2019-09-24T03:00:00.000+03:00\n",
      "Tesla May Have Invented a Million-Mile Electric Car Battery|||2019-09-24T14:01:00.000+03:00\n",
      "Elon Musk accused of using Tesla and SpaceX to bail out SolarCity for $2.6 billion|||2019-09-24T10:00:00.000+03:00\n",
      "Angry shareholders accused Elon Musk of using Tesla and SpaceX to bail out his cousins' solar company for $2.6 billion|||2019-09-24T16:04:00.000+03:00\n",
      "TESLA \"The Great Radio Controversy\" 1989|||2019-09-24T16:45:00.000+03:00\n",
      "Lawsuit alleges Elon Musk pushed for approval of SolarCity deal despite major cash crunch|||2019-09-24T17:11:00.000+03:00\n",
      "Top 3 Semiautonomous Cars for the Non-Millionaire|||2019-09-24T13:00:00.000+03:00\n",
      "Teresa Martin: Electric cars drive into mainstream|||2019-09-24T03:20:00.000+03:00\n",
      "Unsealed Court Docs Raise New Questions About Tesla's SolarCity Acquisition|||2019-09-24T19:12:00.000+03:00\n",
      "Elon Musk knew SolarCity was going broke before merger with Tesla, lawsuit alleges|||2019-09-23T03:00:00.000+03:00\n",
      "Tesla Earns Safety Award from IIHS for Model 3|||2019-09-24T11:12:00.000+03:00\n",
      "Tesla’s official iPhone X/S leather folio sees rare discount to $26 (Reg. $45)|||2019-09-24T17:04:00.000+03:00\n",
      "TESLA MODEL X 75D AUTOPILOT, 7 PASS, TESLA 2YR/160K CPO WARRANTY! (1-19-128Z)|||2019-09-24T20:11:00.000+03:00\n",
      "Nio's stock suffering record selloff on heavy volume; Tesla shares fall as well|||2019-09-24T17:56:00.000+03:00\n",
      "UPDATE 1-Tesla's Musk pushed for SolarCity deal despite major cash crunch -lawsuit|||2019-09-24T19:27:00.000+03:00\n",
      "Watch Bad Driver Hit A Parked Tesla Four Times In A Row|||2019-09-24T21:49:00.000+03:00\n",
      "Netflix, YouTube, more video games coming to parked Tesla cars|||2019-09-25T01:19:00.000+03:00\n",
      "VIDEO: Sky turns blood red in Indonesia | CBS 17|||2019-09-24T03:00:00.000+03:00\n",
      "ElectricVehicleNews.net - Electric Cars|||2019-09-24T03:00:00.000+03:00\n",
      "Tesla Saves Cows with Vegan Interiors on Model 3|||2019-09-25T04:00:00.000+03:00\n",
      "19/9/25 미국주식 투자일지|||2019-09-25T03:00:00.000+03:00\n",
      "Tesla and SpaceX funds saved SolarCity|||2019-09-25T03:45:00.000+03:00\n",
      "allegedly pushed SolarCity deal despite major cash crunch|||2019-09-24T17:01:00.000+03:00\n",
      "Google Alert - stock|||2019-09-25T06:15:00.000+03:00\n",
      "A Chevy Bolt EV Caught on Fire: Possible Causes|||2019-09-24T18:08:00.000+03:00\n",
      "Mazda's first electric car to make debut at Tokyo Motor Show|||2019-09-25T06:44:00.000+03:00\n",
      "WeWork CEO Steps Down – Top Trending Stories|||2019-09-25T05:59:00.000+03:00\n",
      "Tesla Could Actually Be Developing a Million-Mile Battery|||2019-09-24T19:06:00.000+03:00\n",
      "Why Tesla Stock Fell Tuesday|||2019-09-24T21:50:00.000+03:00\n",
      "Stock Market News Today: Sept. 24, 2019|||2019-09-24T21:16:00.000+03:00\n",
      "Tesla (NASDAQ:TSLA) Trading Down 7.5%|||2019-09-25T07:00:00.000+03:00\n",
      "Tesla (NASDAQ:TSLA) Trading Down 7.5%|||2019-09-25T07:00:00.000+03:00\n",
      "Was This Rust Issue On A Model 3 Tesla's Fault?|||2019-09-25T17:26:00.000+03:00\n",
      "Car and Driver | Elon Musk claimed in April 2019 that Tesla...|||2019-09-25T18:14:00.000+03:00\n",
      "Sep 25 - Tesla May Have Invented a Million-Mile Electric Car Battery|||2019-09-25T18:42:00.000+03:00\n",
      "The Truth About Tesla’s Share Price﻿|||2019-09-25T13:15:00.000+03:00\n",
      "\"Fully Engulfed In Flames\": Truck Hauling Tesla Vehicles Spontaneously Combusts On I-80|||2019-09-26T00:30:00.000+03:00\n",
      "\"Fully Engulfed In Flames\": Truck Hauling Tesla Vehicles Spontaneously Combusts On I-80|||2019-09-26T00:30:00.000+03:00\n",
      "\"Fully Engulfed In Flames\": Truck Hauling Tesla Vehicles Spontaneously Combusts On I-80|||2019-09-26T00:30:00.000+03:00\n",
      "\"Fully Engulfed In Flames\": Truck Hauling Tesla Vehicles Spontaneously Combusts On I-80|||2019-09-26T00:30:00.000+03:00\n",
      "4PCS Emblem LED Light Magnetic Levitation Waterproof Modification,Tire Center Lamp Lighting Modified Accessories for Model 3 White Light $44.2|||2019-09-26T01:40:00.000+03:00\n",
      "Police Tesla runs out of battery during high-speed pursuit in California|||2019-09-26T02:55:00.000+03:00\n",
      "4PCS Emblem LED Light Magnetic Levitation Waterproof Modification,Tire Center Lamp Lighting Modified Accessories for Model 3 White Light $44.2|||2019-09-26T01:40:00.000+03:00\n",
      "Miami-Dade’s first fleet of electric buses draws nearer|||2019-09-25T06:09:00.000+03:00\n",
      "WATCH | Tesla's new battery to last a million miles? | Wheels24|||2019-09-26T03:00:00.000+03:00\n",
      "Lingang, home to Tesla’s first factory outside US, secures 24 deals worth US$1 billion, but investment ‘far from enough’, analyst says|||2019-09-26T11:31:00.000+03:00\n",
      "Being Litigated! Tesla’s Colossal CEO Comp In The Crosshairs|||2019-09-26T13:00:00.000+03:00\n",
      "Elon Musk has warned that ‘advanced AI’ could poison social media|||2019-09-26T13:41:00.000+03:00\n",
      "Here Are Four Reasons Why Tesla Is Still Ahead Of The Competition|||2019-09-26T14:48:00.000+03:00\n",
      "Sharing the road|||2019-09-26T08:00:00.000+03:00\n",
      "Tesla V10.0 Update Starts Rolling, Brings Netflix, Youtube, and Spotify|||2019-09-26T18:49:00.000+03:00\n",
      "Pro-Tesla Blog Admits Porsche Taycan's Acceleration Makes Model 3 Feel Like \"Dad's Honda Accord\"|||2019-09-26T19:41:00.000+03:00\n",
      "Chariots On Fire -- Notes From All Over, Part 2 -- September 26, 2019|||2019-09-26T19:15:00.000+03:00\n",
      "Tesla (TSLA) gets bold ‘Buy' rating and $324 price target from Chinese finance firm|||2019-09-26T19:59:00.000+03:00\n",
      "Pro-Tesla Blog Admits Porsche Taycan's Acceleration Makes Model 3 Feel Like \"Dad's Honda Accord\"|||2019-09-26T20:11:00.000+03:00\n",
      "Pro-Tesla Blog Admits Porsche Taycan's Acceleration Makes Model 3 Feel Like \"Dad's Honda Accord\"|||2019-09-26T19:41:00.000+03:00\n",
      "A look at auto insurance registration data in China may show Tesla sales surging | Nightly Business Report|||2019-09-26T03:00:00.000+03:00\n",
      "Pro-Tesla Blog Admits Porsche Taycan's Acceleration Makes Model 3 Feel Like \"Dad's Honda Accord\"|||2019-09-26T19:41:00.000+03:00\n",
      "Tesla jumps on report Musk aims to deliver record 100,000 cars this quarter|||2019-09-26T21:12:00.000+03:00\n",
      "Pro-Tesla Blog Admits Porsche Taycan's Acceleration Makes Model 3 Feel Like \"Dad's Honda Accord\"|||2019-09-26T20:41:00.000+03:00\n",
      "Tesla jumps on report Musk aims to deliver 100,000 cars this quarter|||2019-09-26T20:57:00.000+03:00\n",
      "Tesla V10 software roll out begins in US, Spotify included - Roadshow|||2019-09-26T22:00:00.000+03:00\n",
      "Elon Musk said in a leaked email that Tesla has a chance to break its delivery record this quarter (TSLA)|||2019-09-26T22:00:00.000+03:00\n",
      "'Tesla Theater' to come with company's 'biggest software update ever'|||2019-09-26T18:59:00.000+03:00\n",
      "Elon Musk said in a leaked email that Tesla has a chance to break its delivery record this quarter (TSLA)|||2019-09-26T22:00:00.000+03:00\n",
      "Tesla rolls out big software update with Spotify, Netflix, YouTube, and more|||2019-09-26T19:10:00.000+03:00\n",
      "Tesla shares jump on leaked deliveries email, entertainment software update|||2019-09-26T23:40:00.000+03:00\n",
      "Tesla shares jump on leaked deliveries email, entertainment software update|||2019-09-26T23:20:00.000+03:00\n",
      "The Road Trip: London to St. Andrews with Tesla|||2019-09-25T07:43:00.000+03:00\n",
      "Tesla shares jump on leaked deliveries email, entertainment software update|||2019-09-26T23:39:00.000+03:00\n",
      "Simone Giertz Takes Matters Into Her Own Hands And Makes Her Own Tesla Pickup Truck | Science and Technology|||2019-09-26T20:58:00.000+03:00\n",
      "TSLA jumps on news of Gigafactory 3 progress, 100,000 delivery target|||2019-09-27T01:09:00.000+03:00\n"
     ]
    }
   ],
   "source": [
    "for feed in output['posts']:\n",
    "    print(str(feed['title']) + '|||' + str(feed['published']))"
   ]
  },
  {
   "cell_type": "code",
   "execution_count": 4,
   "metadata": {},
   "outputs": [
    {
     "name": "stdout",
     "output_type": "stream",
     "text": [
      "Total number of titles: 100\n"
     ]
    }
   ],
   "source": [
    "feed_titles = []\n",
    "\n",
    "for feed in output['posts']:\n",
    "    feed_titles.append(str(feed['title']))\n",
    "\n",
    "print(\"Total number of titles: \" + str(len(feed_titles)))"
   ]
  },
  {
   "cell_type": "code",
   "execution_count": 6,
   "metadata": {},
   "outputs": [],
   "source": [
    "def tokenize_titles(title):\n",
    "    tokens = nltk.word_tokenize(title)\n",
    "    lmtzr = WordNetLemmatizer()\n",
    "    filtered_tokens = []\n",
    "    \n",
    "    for token in tokens:\n",
    "        token = token.replace(\"'s\", \" \").replace(\"n’t\", \" not\").replace(\"’ve\", \" have\")\n",
    "        token = re.sub(r'[^a-zA-Z0-9 ]', '', token)\n",
    "        if token not in stopwords:\n",
    "            filtered_tokens.append(token.lower())\n",
    "    \n",
    "    lemmas = [lmtzr.lemmatize(t,'v') for t in filtered_tokens]\n",
    "\n",
    "    return lemmas"
   ]
  },
  {
   "cell_type": "code",
   "execution_count": 10,
   "metadata": {},
   "outputs": [],
   "source": [
    "def clstr_lda(num_topics, stories):\n",
    "    # top words to be identified\n",
    "    n_top_words = 10\n",
    "\n",
    "    tf_vectorizer = CountVectorizer(max_df=100, min_df=2, max_features=500,\n",
    "                                    tokenizer=tokenize_titles, ngram_range=(3,4))\n",
    "\n",
    "    tf = tf_vectorizer.fit_transform(stories)\n",
    "\n",
    "    lda = LatentDirichletAllocation(n_components=num_topics, max_iter=200,\n",
    "                                    learning_method='online', learning_offset=10.,\n",
    "                                    random_state = 1)\n",
    "    lda.fit(tf)\n",
    "    tf_feature_names = tf_vectorizer.get_feature_names()\n",
    "\n",
    "    # print top topic words\n",
    "    topics = dict()\n",
    "    for topic_idx, topic in enumerate(lda.components_):\n",
    "        topics[topic_idx] = [tf_feature_names[i] for i in topic.argsort()[:-n_top_words - 1:-1]]\n",
    "        print(\"Topic #%d:\" % topic_idx)\n",
    "        print(\" | \".join([tf_feature_names[i] for i in topic.argsort()[:-n_top_words - 1:-1]]))\n",
    "        \n",
    "    return topics"
   ]
  },
  {
   "cell_type": "code",
   "execution_count": 11,
   "metadata": {},
   "outputs": [
    {
     "name": "stdout",
     "output_type": "stream",
     "text": [
      "Topic #0:\n",
      "netflix  youtube  |  youtube  | netflix  youtube |  tsla  | quarter  tsla  | leak email tesla | delivery record quarter | musk say leak | break delivery record | elon musk say\n",
      "Topic #1:\n",
      "vehicles spontaneously combust |  fully engulf flame | flame   truck |   truck |  truck haul tesla | tesla vehicles spontaneously |  fully engulf | truck haul tesla | truck haul tesla vehicles | engulf flame \n",
      "Topic #2:\n",
      "lead light magnetic levitation | tire center lamp | accessories model 3 | levitation waterproof modification  | light modify accessories model | white light  442 | modification  tire | lamp light modify accessories | white light  | waterproof modification  tire\n",
      "Topic #3:\n",
      "leak deliveries email | tesla share jump leak | jump leak deliveries | deliveries email  entertainment | entertainment software update | share jump leak | email  entertainment | leak deliveries email  | tesla share jump |  entertainment software\n",
      "Topic #4:\n",
      "100000 cars quarter | tesla jump report musk | jump report musk aim | musk aim deliver | tesla jump report | report musk aim | jump report musk | report musk aim deliver |  tsla  |  entertainment software update\n",
      "Topic #5:\n",
      "deal despite major | solarcity deal despite major | solarcity deal despite | push solarcity deal despite | deal despite major cash | push solarcity deal | major cash crunch | despite major cash crunch | despite major cash |   musk push solarcity\n",
      "Topic #6:\n",
      "musk know solarcity go | solarcity go break | break merger tesla  | break merger tesla | elon musk know solarcity | elon musk know | go break merger | tesla  lawsuit | go break merger tesla | tesla  lawsuit allege\n",
      "Topic #7:\n",
      " dad   honda | feel like  dad | protesla blog admit porsche |   acceleration make model | model 3 feel like | protesla blog admit | taycan   acceleration |   honda accord  |   acceleration make | admit porsche taycan\n",
      "Topic #8:\n",
      " elon musk | google alert  |  nasdaq  tsla | 100000 cars quarter |   truck | 3 feel like |   acceleration make model |  tire center lamp | tesla share jump | accessories model 3 white\n",
      "Topic #9:\n",
      " tsla  | tesla ceo elon | tesla ceo elon musk | ceo elon musk | tesla  nasdaq  | tsla  trade 75 |  nasdaq  tsla | tsla  trade | trade 75  | nasdaq  tsla \n"
     ]
    }
   ],
   "source": [
    "topics = clstr_lda(10, feed_titles)"
   ]
  },
  {
   "cell_type": "code",
   "execution_count": null,
   "metadata": {},
   "outputs": [],
   "source": [
    "#output = webhoseio.get_next()"
   ]
  },
  {
   "cell_type": "code",
   "execution_count": null,
   "metadata": {},
   "outputs": [],
   "source": []
  }
 ],
 "metadata": {
  "kernelspec": {
   "display_name": "Python 3",
   "language": "python",
   "name": "python3"
  },
  "language_info": {
   "codemirror_mode": {
    "name": "ipython",
    "version": 3
   },
   "file_extension": ".py",
   "mimetype": "text/x-python",
   "name": "python",
   "nbconvert_exporter": "python",
   "pygments_lexer": "ipython3",
   "version": "3.8.3"
  }
 },
 "nbformat": 4,
 "nbformat_minor": 2
}
