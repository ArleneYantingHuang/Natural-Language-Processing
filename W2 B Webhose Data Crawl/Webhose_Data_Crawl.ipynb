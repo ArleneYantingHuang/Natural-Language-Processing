{
 "cells": [
  {
   "cell_type": "markdown",
   "metadata": {},
   "source": [
    "### Webhose.io Data Crawling"
   ]
  },
  {
   "cell_type": "markdown",
   "metadata": {},
   "source": [
    "#### Configure API "
   ]
  },
  {
   "cell_type": "code",
   "execution_count": 81,
   "metadata": {},
   "outputs": [],
   "source": [
    "pip install python-decouple"
   ]
  },
  {
   "cell_type": "code",
   "execution_count": 82,
   "metadata": {},
   "outputs": [],
   "source": [
    "import webhoseio\n",
    "from decouple import config\n",
    "\n",
    "webhoseio.config(token=config('WEBHOSE_TOKEN'))\n",
    "\n",
    "query_params = {\n",
    "    \"q\": \"language:english site_type:news organization:\\\"tesla\\\" is_first:true\",\n",
    "    \"ts\": \"1588565428918\",\n",
    "    \"sort\": \"published\"\n",
    "}"
   ]
  },
  {
   "cell_type": "markdown",
   "metadata": {},
   "source": [
    "#### Get the first batch of 100 news posts, add them to <i>newsfeeds</i> - a Python array of JSONs"
   ]
  },
  {
   "cell_type": "code",
   "execution_count": 83,
   "metadata": {},
   "outputs": [],
   "source": [
    "output = webhoseio.query(\"filterWebContent\", query_params)"
   ]
  },
  {
   "cell_type": "code",
   "execution_count": 87,
   "metadata": {},
   "outputs": [
    {
     "data": {
      "text/plain": [
       "100"
      ]
     },
     "execution_count": 87,
     "metadata": {},
     "output_type": "execute_result"
    }
   ],
   "source": [
    "newsfeeds = []\n",
    "for post in output['posts']:\n",
    "    newsfeeds.append(post)\n",
    "len(newsfeeds)"
   ]
  },
  {
   "cell_type": "code",
   "execution_count": 94,
   "metadata": {},
   "outputs": [
    {
     "data": {
      "text/plain": [
       "{'persons': [{'name': 'charlie wang', 'sentiment': 'none'},\n",
       "  {'name': 'tesla', 'sentiment': 'none'},\n",
       "  {'name': 'wang', 'sentiment': 'none'}],\n",
       " 'organizations': [{'name': 'tesla', 'sentiment': 'none'},\n",
       "  {'name': 'tesla model y deliveries in canada starting', 'sentiment': 'none'},\n",
       "  {'name': 'facebook', 'sentiment': 'none'},\n",
       "  {'name': 'confirms vancouver store share &', 'sentiment': 'none'}],\n",
       " 'locations': [{'name': 'canada', 'sentiment': 'none'},\n",
       "  {'name': 'west vancouver', 'sentiment': 'none'},\n",
       "  {'name': 'vancouver', 'sentiment': 'none'}]}"
      ]
     },
     "execution_count": 94,
     "metadata": {},
     "output_type": "execute_result"
    }
   ],
   "source": [
    "newsfeeds[0]['entities']"
   ]
  },
  {
   "cell_type": "markdown",
   "metadata": {},
   "source": [
    "#### Check the remaining API call limiit and how many more posts are left (e.g. 1 call = 100 posts)"
   ]
  },
  {
   "cell_type": "code",
   "execution_count": 88,
   "metadata": {},
   "outputs": [
    {
     "data": {
      "text/plain": [
       "441"
      ]
     },
     "execution_count": 88,
     "metadata": {},
     "output_type": "execute_result"
    }
   ],
   "source": [
    "output['requestsLeft']"
   ]
  },
  {
   "cell_type": "code",
   "execution_count": 89,
   "metadata": {},
   "outputs": [
    {
     "data": {
      "text/plain": [
       "1037"
      ]
     },
     "execution_count": 89,
     "metadata": {},
     "output_type": "execute_result"
    }
   ],
   "source": [
    "# print(output['totalResults']) # to see total available posts\n",
    "num_more_posts = output['moreResultsAvailable']\n",
    "num_more_posts"
   ]
  },
  {
   "cell_type": "markdown",
   "metadata": {},
   "source": [
    "#### Get the next batches and add them to <i>newsfeeds</i><br> watch out for the number of get_next() calls against your Webhose.io API call limits"
   ]
  },
  {
   "cell_type": "code",
   "execution_count": 70,
   "metadata": {},
   "outputs": [
    {
     "name": "stdout",
     "output_type": "stream",
     "text": [
      "10800\n"
     ]
    }
   ],
   "source": [
    "count = 0\n",
    "while count < num_more_posts:    \n",
    "    output = webhoseio.get_next()\n",
    "    for post in output['posts']:\n",
    "        newsfeeds.append(post)\n",
    "    count += 100\n",
    "print(len(newsfeeds))"
   ]
  },
  {
   "cell_type": "markdown",
   "metadata": {},
   "source": [
    "#### Write the JSONs to a data file as one line per post JSON object"
   ]
  },
  {
   "cell_type": "code",
   "execution_count": 71,
   "metadata": {},
   "outputs": [],
   "source": [
    "import json\n",
    "\n",
    "with open(\"datasets/webhose_apple.json\", \"w\") as data_file:\n",
    "    for feed in newsfeeds:\n",
    "        line = json.dumps(feed)\n",
    "        data_file.write(line)\n",
    "        data_file.write(\"\\n\")"
   ]
  },
  {
   "cell_type": "markdown",
   "metadata": {},
   "source": [
    "#### Read the JSON file back into Python array of JSON objects and confirm the count"
   ]
  },
  {
   "cell_type": "code",
   "execution_count": 72,
   "metadata": {},
   "outputs": [
    {
     "name": "stdout",
     "output_type": "stream",
     "text": [
      "10800\n"
     ]
    }
   ],
   "source": [
    "json_data=open(\"datasets/webhose_apple.json\").readlines()\n",
    "newsfeeds_read = []\n",
    "for line in json_data:\n",
    "    newsfeeds_read.append(json.loads(line))\n",
    "print(len(newsfeeds_read))"
   ]
  },
  {
   "cell_type": "code",
   "execution_count": 73,
   "metadata": {},
   "outputs": [
    {
     "data": {
      "text/plain": [
       "{'thread': {'uuid': '4aa124a2c78843f8404405e65cd69da7bfaed9c4',\n",
       "  'url': 'http://omgili.com/ri/.wHSUbtEfZQVWCSCAg0UcdNr5_Jr5.9rcm.BgMo9Zwa_XTw1UsQ92zXPFZacmUOznR9FAnS8nu0qR4QbNrpO4xJ6h.awLU72832XEvC2yVr962k3sdtksI9qxhG9DiHVIX6kEY8G11HTa53TwRhREw--',\n",
       "  'site_full': 'gadgets.ndtv.com',\n",
       "  'site': 'ndtv.com',\n",
       "  'site_section': 'https://feeds.feedburner.com/NDTV-LatestNews',\n",
       "  'site_categories': ['media', 'tech'],\n",
       "  'section_title': 'NDTV News -  Special',\n",
       "  'title': 'iOS 14 Will Reportedly Support All iPhone Models Running iOS 13',\n",
       "  'title_full': 'iOS 14 Will Reportedly Support All iPhone Models Running iOS 13',\n",
       "  'published': '2020-06-03T09:58:00.000+03:00',\n",
       "  'replies_count': 0,\n",
       "  'participants_count': 0,\n",
       "  'site_type': 'news',\n",
       "  'country': 'US',\n",
       "  'spam_score': 0.0,\n",
       "  'main_image': 'https://i.gadgets360cdn.com/large/iPhone_11_Pro_max_display_1568757743031.jpg',\n",
       "  'performance_score': 0,\n",
       "  'domain_rank': 847,\n",
       "  'social': {'facebook': {'likes': 0, 'comments': 0, 'shares': 0},\n",
       "   'gplus': {'shares': 0},\n",
       "   'pinterest': {'shares': 0},\n",
       "   'linkedin': {'shares': 0},\n",
       "   'stumbledupon': {'shares': 0},\n",
       "   'vk': {'shares': 0}}},\n",
       " 'uuid': '4aa124a2c78843f8404405e65cd69da7bfaed9c4',\n",
       " 'url': 'http://omgili.com/ri/.wHSUbtEfZQVWCSCAg0UcdNr5_Jr5.9rcm.BgMo9Zwa_XTw1UsQ92zXPFZacmUOznR9FAnS8nu0qR4QbNrpO4xJ6h.awLU72832XEvC2yVr962k3sdtksI9qxhG9DiHVIX6kEY8G11HTa53TwRhREw--',\n",
       " 'ord_in_thread': 0,\n",
       " 'parent_url': None,\n",
       " 'author': '',\n",
       " 'published': '2020-06-03T09:58:00.000+03:00',\n",
       " 'title': 'iOS 14 Will Reportedly Support All iPhone Models Running iOS 13',\n",
       " 'text': \"iOS 14 Will Support All iPhone Models That Run iOS 13, Including iPhone 6s Series: Report iOS 14 Will Support All iPhone Models That Run iOS 13, Including iPhone 6s Series: Report Apple will reportedly provide iOS 14 as the last major update on the iPhone 6s series and the iPhone SE. By Jagmeet Singh | Updated: 3 June 2020 12:28 IST Apple is hosting its WWDC on June 22 where we expect the formal launch of iOS 14 Highlights iOS 14 compatible devices list could include iPhone 6s and iPhone 6s Plus iPhone 7 series will reportedly receive updates until iOS 16 Apple is likely to release a beta version of iOS 14 following its launch\\nApple will reportedly support iOS 14 for all iPhone models that can run iOS 13. This suggests that the Cupertino giant wouldn't make any changes in the list of compatible devices for the next iOS version from what it offered last year. The new development is, of course, good news for iPhone 6s and iPhone 6s Plus users as they both were launched with iOS 9 in September 2015. Apple is hosting its WWDC event later this month where we're likely to get an official word on the compatibility of iOS 14.\\nIsraeli website The Verifier, on the basis of the early development code of iOS 14 and citing a person familiar with the development, wrote that the next iOS version will be compatible with all the iPhone models that were supported by iOS 13 . The list includes the iPhone 6s , iPhone 6s Plus , iPhone SE , iPhone 7 , iPhone 7 Plus , iPhone 8 , iPhone 8 Plus , iPhone X , iPhone XR , iPhone XS , and iPhone XS Max . The list also includes the newer devices, namely the iPhone 11 , iPhone 11 Pro , iPhone 11 Pro Max , and the iPhone SE (2020) , as well as the seventh-generation iPod touch.\\nThe report also mentions that iOS 14 will be the last major update for the iPhone 6s series and the iPhone SE, while the iPhone 7 and iPhone 7 Plus will receive two additional updates after iOS 14. This suggests that the iPhone 7 series may be eligible for even iOS 16 in 2022. iOS 14 May Bring a Redesigned Multitasking Interface to iPhone\\nApple hasn't provided any details about iOS 14. However, the company is expected to announce the new operating system for its mobile devices at WWDC 2020 on June 22 .\\nIf the rollout proceeds as in the past, then iOS 14 would initially be offered in a beta version after the WWDC announcement later this month. It will then reach the stable release stage later this year — during the iPhone 12 launch, looking at the rollout in previous years.\\nAn earlier report claimed that iOS 14 will come with a new Clips feature that would let users preview or test applications before installing them on their devices. The new iOS version is also rumoured to come with an enhanced iCloud Keychain and include redesigned wallpaper settings .\",\n",
       " 'highlightText': '',\n",
       " 'highlightTitle': '',\n",
       " 'highlightThreadTitle': '',\n",
       " 'language': 'english',\n",
       " 'external_links': ['https://www.theverifier.co.il/46415/ios-14-device-support-iphone-6s-iphone-se/',\n",
       "  'https://theverifier.co.il/46415/ios-14-device-support-iphone-6s-iphone-se/',\n",
       "  'https://theverifier.co.il/46415/ios-14-device-support-iphone-6s-iphone-se'],\n",
       " 'external_images': [],\n",
       " 'entities': {'persons': [{'name': 'jagmeet singh', 'sentiment': 'none'}],\n",
       "  'organizations': [{'name': 'apple', 'sentiment': 'none'}],\n",
       "  'locations': [{'name': 'cupertino', 'sentiment': 'none'}]},\n",
       " 'rating': None,\n",
       " 'crawled': '2020-06-03T10:07:59.021+03:00'}"
      ]
     },
     "execution_count": 73,
     "metadata": {},
     "output_type": "execute_result"
    }
   ],
   "source": [
    "newsfeeds_read[1]"
   ]
  },
  {
   "cell_type": "code",
   "execution_count": 74,
   "metadata": {},
   "outputs": [
    {
     "name": "stdout",
     "output_type": "stream",
     "text": [
      "New iPad Air may come with USB-C not Lightning Port\n",
      "http://omgili.com/ri/.wHSUbtEfZRyyLJKogCgQjT1s16xuxgsWJnp7alwJlmPEpdpnAas4X6UKG8Bmm3WULIVKdg2cyT32lur0k6h.YIUNbhwlGkL0XiDXCCfgrSCkX0_x7zycPM1.pO1OGSB\n",
      "2020-06-03T10:00:00.000+03:00\n"
     ]
    }
   ],
   "source": [
    "for feed in newsfeeds_read:\n",
    "    print(feed['title'])\n",
    "    print(feed['url'])\n",
    "    print(feed['published'])\n",
    "    break"
   ]
  },
  {
   "cell_type": "code",
   "execution_count": null,
   "metadata": {},
   "outputs": [],
   "source": []
  }
 ],
 "metadata": {
  "kernelspec": {
   "display_name": "Python 3",
   "language": "python",
   "name": "python3"
  },
  "language_info": {
   "codemirror_mode": {
    "name": "ipython",
    "version": 3
   },
   "file_extension": ".py",
   "mimetype": "text/x-python",
   "name": "python",
   "nbconvert_exporter": "python",
   "pygments_lexer": "ipython3",
   "version": "3.8.3"
  }
 },
 "nbformat": 4,
 "nbformat_minor": 2
}
