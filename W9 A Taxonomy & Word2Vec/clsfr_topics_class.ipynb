{
 "cells": [
  {
   "cell_type": "code",
   "execution_count": 2,
   "metadata": {},
   "outputs": [],
   "source": [
    "import gensim, operator\n",
    "from scipy import spatial\n",
    "import numpy as np\n",
    "from gensim.models import KeyedVectors\n",
    "\n",
    "model_path = '/Users/javid/projects/enaibl/models/wordvec/'"
   ]
  },
  {
   "cell_type": "code",
   "execution_count": 3,
   "metadata": {},
   "outputs": [
    {
     "name": "stdout",
     "output_type": "stream",
     "text": [
      "Loading Word2Vec model...\n",
      "Finished loading Word2Vec model...\n"
     ]
    }
   ],
   "source": [
    "def load_wordvec_model(modelName, modelFile, flagBin):\n",
    "    print('Loading ' + modelName + ' model...')\n",
    "    model = KeyedVectors.load_word2vec_format(model_path + modelFile, binary=flagBin)\n",
    "    print('Finished loading ' + modelName + ' model...')\n",
    "    return model\n",
    "\n",
    "model_word2vec = load_wordvec_model('Word2Vec', 'GoogleNews-vectors-negative300.bin.gz', True)\n",
    "#model_fasttext = load_wordvec_model('FastText', 'fastText_wiki_en.vec', False)"
   ]
  },
  {
   "cell_type": "code",
   "execution_count": 4,
   "metadata": {},
   "outputs": [],
   "source": [
    "# BUILD YOUR OWN TAXONOMY BASED ON LDA and MANUAL DATA EXPLORATION\n",
    "topic_taxonomy = {\n",
    "    \"executive leadership manager CEO\":\n",
    "    {\n",
    "        \"Executive Appointment\":  \"appointed named picked joins\",\n",
    "        \"Executive Resignation\":  \"quits resigns retires departs leaves\",\n",
    "        \"Executive Compensation\": \"paid compensated receives bonus payraise payout dividend\"\n",
    "    },\n",
    "    \"business company\":\n",
    "    {\n",
    "        \"Business Expansion\":    \"to acquire buy acquisition merge invest purchase spend subsidize win secure contract venture\",\n",
    "        \"Business Reorganization\": \"bankruptcy withdraw divest exit pullout sale sell outflow writeoff split\",\n",
    "        \"Business Partnership\":  \"partner team collaboration alliance deal contract\",\n",
    "        \"Operational Outage\":    \"operational outage disruption halt end cancellation delay\",\n",
    "        \"Operations Resume\":     \"restore restart resume maintain operations\",\n",
    "        \"Business Statement\":    \"shareholder issues releases statement results policy denial confirmation\",\n",
    "        \"Business Settlement\":   \"settlement refund moneyback compensate reimburse\",\n",
    "        \"Business Competition\":  \"tops leads to rival competitor entrant competitive advantage\"\n",
    "    },\n",
    "    \"location branch plant store\":\n",
    "    {\n",
    "        \"Facility Opening\":    \"open expand facility\",\n",
    "        \"Facility Relocation\": \"closure move shutdown relocate\"\n",
    "    },\n",
    "    \"employee worker\":\n",
    "    {\n",
    "        \"Workforce Expansion\":  \"jobs hiring openings recruitment looking to hire\",\n",
    "        \"Workforce Downsizing\": \"job cut layoff lay off reorganization termination downsizing\",\n",
    "        \"Workforce Discontent\": \"discontent dissatisfaction labor crew union strike dispute unrest boycott revolt\",\n",
    "        \"Workforce Agreement\":  \"pension deal agreement contract negotiation arbitration resolve\"\n",
    "    },\n",
    "    \"marketing\":\n",
    "    {\n",
    "        \"PR Meeting\":    \"host presentation summit convention conference symposium meeting show exposition\",\n",
    "        \"PR Ceremony\":   \"loyalty award recognize celebrity honor ceremony mark anniversary prize\",\n",
    "        \"PR Marketing\":  \"advertising commercial campaign exclusive offer\",\n",
    "        \"PR Charity\":    \"donate sponsor contribute benefit grant aid\"\n",
    "    },\n",
    "    \"legal\"\t:\n",
    "    {\n",
    "        \"Legal Lawsuit\":        \"conviction guilty sue battle in court ruling sentencing class action lawsuit litigation settlement appeals trial testify\",\n",
    "        \"Legal Investigation\":  \"law FBI probe allegation indictment investigation face charges grilled over\",\n",
    "        \"Legal Scandal\":        \"scandal revelation whistleblower accusing accusation\"\n",
    "    },\n",
    "    \"regulation standards\":\n",
    "    {\n",
    "        \"Regulatory Impact\":    \"compliance safety feds audit fine debt owe penalty privacy discrimination certification government blessing taxation import duties tarriff legislation bill\",\n",
    "        \"Environmental Regulation\": \"environment climate change water quality pollution emission oil spill\"\n",
    "    },\n",
    "    \"incident\" :\n",
    "     {\n",
    "        \"Financial Crime\":        \"insider trading activity financial crime corruption fraud bribe FCPA money laundering\",\n",
    "        \"Crime General\":          \"police shot killed murder robbery burglary steal thief damage arrest kidnapping smuggling drugs cartel\",\n",
    "        \"Security Breach\":        \"security data confidential information breach hacking\",\n",
    "        \"Safety Incident\":        \"safety accident fire gas leak arson radiation\",\n",
    "        \"Healthcare Casualty\":    \"injury death casualty ambulance healthcare epidemic hurt\",\n",
    "        \"Automotive Emergency\":   \"accident car Tesla crash bus overturned\",\n",
    "        \"Aviation Emergency\":     \"airplane helicopter crash landing skids off runway\",\n",
    "        \"Violent Incident\":       \"war military strike killed shot terrorist attack shooting explosion bombing\",\n",
    "        \"Natural Disaster\":       \"earthquake flood rainstorm snowstorm hurricane tornado\"\n",
    "     },\n",
    "    \"earnings revenue sales stock profits income\":\n",
    "    {\n",
    "        \"Revenue Growth\":  \"up post gain increase growth climb rise jump surge soar boost\",\n",
    "        \"Revenue Decline\": \"decline down drop fall lose value decrease stumble plunge slip plummet\"\n",
    "    },\n",
    "    \"market expansion\":\n",
    "    {\n",
    "        \"New Technology\":   \"new technology system development invention patent driverless self-driving automation\",\n",
    "        \"New Project\":      \"new project initiative field discovery exploration\",\n",
    "        \"New Product\":      \"new unveil release announce launch build introduce produced concept model\"\n",
    "\n",
    "    },\n",
    "    \"product\":\n",
    "    {\n",
    "        \"Product Failure\":  \"issue problem recall citing failure withdrawal discontinue defect flaw\"\n",
    "    },\n",
    "    \"rating forecast outlook prediction rank\" :\n",
    "    {\n",
    "        \"Forecast Positive\": \"upgrade outperform strong growing positive optimistic high up profitable\",\n",
    "        \"Forecast Negative\": \"pessimistic warn tough times decline weak negative down low downgrade fail drop\"\n",
    "    },\n",
    "    \"consumer feedback sentiment study\":\n",
    "    {\n",
    "        \"Feedback Positive\": \"positive best like praise upbeat success improving customer service\",\n",
    "        \"Feedback Negative\": \"slam dislike complaint bad negative perception poor service harbinger stop\",\n",
    "        \"Opinion Feedback\":  \"feeling question maybe opinion safe interview view blog says quote complaint comment\"\n",
    "    },\n",
    "    \"sport\":\n",
    "    {\n",
    "        \"Sport\": \"sports tournament match score\"\n",
    "    }\n",
    "}"
   ]
  },
  {
   "cell_type": "code",
   "execution_count": 5,
   "metadata": {},
   "outputs": [],
   "source": [
    "def vec_similarity(input1, input2, vectors):\n",
    "    term_vectors = [np.zeros(300), np.zeros(300)]\n",
    "    terms = [input1, input2]\n",
    "        \n",
    "    for index, term in enumerate(terms):\n",
    "        for i, t in enumerate(term.split(' ')):\n",
    "            try:\n",
    "                term_vectors[index] += vectors[t]\n",
    "            except:\n",
    "                term_vectors[index] += 0\n",
    "        \n",
    "    result = (1 - spatial.distance.cosine(term_vectors[0], term_vectors[1]))\n",
    "    if result is 'nan':\n",
    "        result = 0\n",
    "        \n",
    "    return result"
   ]
  },
  {
   "cell_type": "code",
   "execution_count": 6,
   "metadata": {},
   "outputs": [],
   "source": [
    "# function checks whether the input words are present in the vocabulary for the model\n",
    "def vocab_check(vectors, words):\n",
    "    \n",
    "    output = list()\n",
    "    for word in words:\n",
    "        if word in vectors.vocab:\n",
    "            output.append(word.strip())\n",
    "            \n",
    "    return output"
   ]
  },
  {
   "cell_type": "code",
   "execution_count": 7,
   "metadata": {},
   "outputs": [],
   "source": [
    "# function calculates similarity between two strings using a particular word vector model\n",
    "def calc_similarity(input1, input2, vectors):\n",
    "    s1words = set(vocab_check(vectors, input1.split()))\n",
    "    s2words = set(vocab_check(vectors, input2.split()))\n",
    "    \n",
    "    output = vectors.n_similarity(s1words, s2words)\n",
    "    return output"
   ]
  },
  {
   "cell_type": "code",
   "execution_count": 8,
   "metadata": {},
   "outputs": [],
   "source": [
    "# function takes an input string, runs similarity for each item in topic_taxonomy, sorts and returns top 3 results\n",
    "def classify_topics(input, vectors):\n",
    "    feed_score = dict()\n",
    "    for key, value in topic_taxonomy.items():\n",
    "        max_value_score = dict()\n",
    "        for label, keywords in value.items():\n",
    "            max_value_score[label] = 0\n",
    "            topic = (key + ' ' + keywords).strip()\n",
    "            max_value_score[label] += float(calc_similarity(input, topic, vectors))\n",
    "            \n",
    "        sorted_max_score = sorted(max_value_score.items(), key=operator.itemgetter(1), reverse=True)[0]\n",
    "        feed_score[sorted_max_score[0]] = sorted_max_score[1]\n",
    "    return sorted(feed_score.items(), key=operator.itemgetter(1), reverse=True)[:3]"
   ]
  },
  {
   "cell_type": "code",
   "execution_count": 9,
   "metadata": {},
   "outputs": [
    {
     "name": "stdout",
     "output_type": "stream",
     "text": [
      "[('Business Competition', 0.4393536150455475), ('Forecast Positive', 0.4269000291824341), ('New Product', 0.4226176142692566)]\n",
      "[('Executive Resignation', 0.2827241122722626), ('Regulatory Impact', 0.26587608456611633), ('Business Statement', 0.2430115044116974)]\n"
     ]
    }
   ],
   "source": [
    "if __name__ == '__main__':\n",
    "    # example using Word2Vec\n",
    "    output1 = classify_topics('Walmart’s ambitious plan to beat Amazon on free one-day shipping is here', model_word2vec)\n",
    "    print(output1)\n",
    "    # example output using FastText, note for FastText, string needs to be non-capitalized\n",
    "    output2 = classify_topics('White House Has Plan To Force Tillerson Out Replace With CIA Chief', model_word2vec)\n",
    "    print(output2)\n",
    "    "
   ]
  },
  {
   "cell_type": "code",
   "execution_count": null,
   "metadata": {},
   "outputs": [],
   "source": []
  }
 ],
 "metadata": {
  "kernelspec": {
   "display_name": "Python 3",
   "language": "python",
   "name": "python3"
  },
  "language_info": {
   "codemirror_mode": {
    "name": "ipython",
    "version": 3
   },
   "file_extension": ".py",
   "mimetype": "text/x-python",
   "name": "python",
   "nbconvert_exporter": "python",
   "pygments_lexer": "ipython3",
   "version": "3.8.3"
  }
 },
 "nbformat": 4,
 "nbformat_minor": 2
}
