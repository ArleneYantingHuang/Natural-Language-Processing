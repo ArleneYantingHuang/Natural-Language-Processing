{
 "cells": [
  {
   "cell_type": "markdown",
   "metadata": {},
   "source": [
    "## Spacy NER Training\n",
    "### For a complete guide follow the link: https://spacy.io/usage/training#ner"
   ]
  },
  {
   "cell_type": "code",
   "execution_count": 3,
   "metadata": {
    "ExecuteTime": {
     "end_time": "2020-06-28T19:36:43.662331Z",
     "start_time": "2020-06-28T19:36:43.657129Z"
    }
   },
   "outputs": [],
   "source": [
    "import spacy\n",
    "from spacy.util import minibatch, compounding\n",
    "from pathlib import Path\n",
    "import random"
   ]
  },
  {
   "cell_type": "code",
   "execution_count": 4,
   "metadata": {
    "ExecuteTime": {
     "end_time": "2020-06-28T19:36:44.804211Z",
     "start_time": "2020-06-28T19:36:44.309529Z"
    }
   },
   "outputs": [],
   "source": [
    "nlp = spacy.load(\"en_core_web_sm\")\n"
   ]
  },
  {
   "cell_type": "markdown",
   "metadata": {},
   "source": [
    "### Training Data"
   ]
  },
  {
   "cell_type": "code",
   "execution_count": 14,
   "metadata": {
    "ExecuteTime": {
     "end_time": "2020-06-28T19:58:34.001037Z",
     "start_time": "2020-06-28T19:58:33.986644Z"
    }
   },
   "outputs": [
    {
     "data": {
      "text/plain": [
       "[('Who is Shaka Khan?', {'entities': [(7, 17, 'PERSON')]}),\n",
       " ('I like London and Berlin.',\n",
       "  {'entities': [(7, 13, 'LOC'), (18, 24, 'LOC')]})]"
      ]
     },
     "execution_count": 14,
     "metadata": {},
     "output_type": "execute_result"
    }
   ],
   "source": [
    "# training data\n",
    "TRAIN_DATA = [\n",
    "    (\"Who is Shaka Khan?\", {\"entities\": [(7, 17, \"PERSON\")]}),\n",
    "    (\"I like London and Berlin.\", {\"entities\": [(7, 13, \"LOC\"), (18, 24, \"LOC\")]}),\n",
    "]\n",
    "TRAIN_DATA\n"
   ]
  },
  {
   "cell_type": "markdown",
   "metadata": {},
   "source": [
    "### Create the built-in pipeline components and add them to the pipeline\n"
   ]
  },
  {
   "cell_type": "code",
   "execution_count": 19,
   "metadata": {
    "ExecuteTime": {
     "end_time": "2020-06-28T20:32:22.095858Z",
     "start_time": "2020-06-28T20:32:22.091151Z"
    }
   },
   "outputs": [],
   "source": [
    "# create the built-in pipeline components and add them to the pipeline\n",
    "# nlp.create_pipe works for built-ins that are registered with spaCy\n",
    "if \"ner\" not in nlp.pipe_names:\n",
    "    ner = nlp.create_pipe(\"ner\")\n",
    "    nlp.add_pipe(ner, last=True)\n",
    "# otherwise, get it so we can add labels\n",
    "else:\n",
    "    ner = nlp.get_pipe(\"ner\")\n",
    "    "
   ]
  },
  {
   "cell_type": "code",
   "execution_count": 20,
   "metadata": {
    "ExecuteTime": {
     "end_time": "2020-06-28T20:32:22.822842Z",
     "start_time": "2020-06-28T20:32:22.817897Z"
    }
   },
   "outputs": [],
   "source": [
    "# add labels\n",
    "for _, annotations in TRAIN_DATA:\n",
    "    for ent in annotations.get(\"entities\"):\n",
    "        ner.add_label(ent[2])"
   ]
  },
  {
   "cell_type": "code",
   "execution_count": 24,
   "metadata": {
    "ExecuteTime": {
     "end_time": "2020-06-28T20:34:47.624458Z",
     "start_time": "2020-06-28T20:34:47.620345Z"
    }
   },
   "outputs": [
    {
     "data": {
      "text/plain": [
       "['tagger', 'parser', 'ner']"
      ]
     },
     "execution_count": 24,
     "metadata": {},
     "output_type": "execute_result"
    }
   ],
   "source": []
  },
  {
   "cell_type": "markdown",
   "metadata": {},
   "source": [
    "### Train NER "
   ]
  },
  {
   "cell_type": "code",
   "execution_count": 21,
   "metadata": {
    "ExecuteTime": {
     "end_time": "2020-06-28T20:32:32.208299Z",
     "start_time": "2020-06-28T20:32:30.635148Z"
    }
   },
   "outputs": [
    {
     "name": "stdout",
     "output_type": "stream",
     "text": [
      "Losses {'ner': 2.8372888102996097e-06}\n",
      "Losses {'ner': 0.0012294779650008467}\n",
      "Losses {'ner': 7.34081300397202e-08}\n",
      "Losses {'ner': 0.20019094922002262}\n",
      "Losses {'ner': 2.4767087001852048e-05}\n",
      "Losses {'ner': 5.083150227132131e-12}\n",
      "Losses {'ner': 9.118843736945031e-12}\n",
      "Losses {'ner': 5.147040028196106e-11}\n",
      "Losses {'ner': 7.75932161337328e-11}\n",
      "Losses {'ner': 5.562305359233314e-08}\n",
      "Losses {'ner': 4.737231688075041e-09}\n",
      "Losses {'ner': 6.373910943043833e-08}\n",
      "Losses {'ner': 5.349695386819556e-06}\n",
      "Losses {'ner': 4.925292936694349e-10}\n",
      "Losses {'ner': 7.962457511631027e-11}\n",
      "Losses {'ner': 2.485504100240832e-06}\n",
      "Losses {'ner': 5.305104124023901e-09}\n",
      "Losses {'ner': 6.160425470939393e-07}\n",
      "Losses {'ner': 5.762340055456883e-08}\n",
      "Losses {'ner': 2.279735808642763e-11}\n",
      "Losses {'ner': 1.7117894752192997e-07}\n",
      "Losses {'ner': 1.0181217051071292e-10}\n",
      "Losses {'ner': 2.5560355309692765e-12}\n",
      "Losses {'ner': 1.6729238359921844e-06}\n",
      "Losses {'ner': 0.00046401482581980333}\n",
      "Losses {'ner': 7.355611006897543e-13}\n",
      "Losses {'ner': 2.472527971754813e-06}\n",
      "Losses {'ner': 2.0669227979386862e-07}\n",
      "Losses {'ner': 1.3203349964000882e-05}\n",
      "Losses {'ner': 1.9113542848125356e-09}\n",
      "Losses {'ner': 3.6538338671970857e-09}\n",
      "Losses {'ner': 5.991465616653416e-11}\n",
      "Losses {'ner': 1.462756702622063e-09}\n",
      "Losses {'ner': 5.2851156112432566e-11}\n",
      "Losses {'ner': 2.092764329605642e-06}\n",
      "Losses {'ner': 1.1287793214890143e-11}\n",
      "Losses {'ner': 2.3363706026032673e-09}\n",
      "Losses {'ner': 0.017985139504419843}\n",
      "Losses {'ner': 5.120000039455772e-08}\n",
      "Losses {'ner': 3.735779751629373e-09}\n",
      "Losses {'ner': 6.378046107104502e-12}\n",
      "Losses {'ner': 1.057612707213582e-09}\n",
      "Losses {'ner': 7.465369242402887e-05}\n",
      "Losses {'ner': 2.582697205217594e-08}\n",
      "Losses {'ner': 3.572245702836787e-11}\n",
      "Losses {'ner': 3.1884161628383473e-10}\n",
      "Losses {'ner': 4.7040055869807517e-14}\n",
      "Losses {'ner': 7.467561749511362e-10}\n",
      "Losses {'ner': 5.450255564591357e-10}\n",
      "Losses {'ner': 4.659606928587949e-12}\n",
      "Losses {'ner': 2.1959058807851713e-07}\n",
      "Losses {'ner': 1.0032573110083594e-06}\n",
      "Losses {'ner': 2.1958010677354685e-06}\n",
      "Losses {'ner': 1.590602479566768e-11}\n",
      "Losses {'ner': 2.1204736192230088e-12}\n",
      "Losses {'ner': 1.290846103841757e-11}\n",
      "Losses {'ner': 2.7691326046568704e-11}\n",
      "Losses {'ner': 1.6324610802333826e-12}\n",
      "Losses {'ner': 3.041787245464302e-12}\n",
      "Losses {'ner': 1.3342429978688358e-08}\n",
      "Losses {'ner': 6.571749228644998e-09}\n",
      "Losses {'ner': 0.00048531383419172754}\n",
      "Losses {'ner': 3.979274358259251e-11}\n",
      "Losses {'ner': 1.912457437113379e-11}\n",
      "Losses {'ner': 5.657230805196891e-09}\n",
      "Losses {'ner': 1.110863337507376e-11}\n",
      "Losses {'ner': 1.9150556338641556e-11}\n",
      "Losses {'ner': 2.2837449493370072e-12}\n",
      "Losses {'ner': 3.799554936087197e-13}\n",
      "Losses {'ner': 5.513178015522763e-09}\n",
      "Losses {'ner': 3.3486208051772014e-06}\n",
      "Losses {'ner': 1.6607554764184015e-11}\n",
      "Losses {'ner': 6.766975362087946e-13}\n",
      "Losses {'ner': 4.793162035631111e-10}\n",
      "Losses {'ner': 4.7939292188015604e-11}\n",
      "Losses {'ner': 1.6029147626393459e-09}\n",
      "Losses {'ner': 1.432477318784804e-07}\n",
      "Losses {'ner': 1.5352083156478988e-08}\n",
      "Losses {'ner': 2.417770770421794e-15}\n",
      "Losses {'ner': 5.797379676207959e-11}\n",
      "Losses {'ner': 6.858770994990492e-06}\n",
      "Losses {'ner': 4.568017028726536e-12}\n",
      "Losses {'ner': 3.56460700594443e-11}\n",
      "Losses {'ner': 6.386950420080065e-08}\n",
      "Losses {'ner': 9.037728649622918e-14}\n",
      "Losses {'ner': 4.2863825192190415e-15}\n",
      "Losses {'ner': 1.391259519271382e-13}\n",
      "Losses {'ner': 9.098614659192232e-17}\n",
      "Losses {'ner': 3.3742726806546027e-10}\n",
      "Losses {'ner': 1.3445538689333524e-09}\n",
      "Losses {'ner': 2.4261576274164914e-09}\n",
      "Losses {'ner': 2.7892113595266973e-14}\n",
      "Losses {'ner': 2.940439747033889e-09}\n",
      "Losses {'ner': 4.5794957394528636e-11}\n",
      "Losses {'ner': 2.701931656440532e-10}\n",
      "Losses {'ner': 1.638902687458181e-12}\n",
      "Losses {'ner': 2.1985548659916796e-13}\n",
      "Losses {'ner': 3.27756496462398e-15}\n",
      "Losses {'ner': 1.0755412133583247e-11}\n",
      "Losses {'ner': 1.6820275105223135e-11}\n"
     ]
    }
   ],
   "source": [
    "n_iter=100\n",
    "# get names of other pipes to disable them during training\n",
    "other_pipes = [pipe for pipe in nlp.pipe_names if pipe != \"ner\"]\n",
    "with nlp.disable_pipes(*other_pipes):  # only train NER\n",
    "    # reset and initialize the weights randomly – but only if we're\n",
    "    # training a new model\n",
    "    #if model is None:\n",
    "    nlp.begin_training()\n",
    "    for itn in range(n_iter):\n",
    "        random.shuffle(TRAIN_DATA)\n",
    "        losses = {}\n",
    "        # batch up the examples using spaCy's minibatch\n",
    "        batches = minibatch(TRAIN_DATA, size=compounding(4.0, 32.0, 1.001))\n",
    "        for batch in batches:\n",
    "            texts, annotations = zip(*batch)\n",
    "            nlp.update(\n",
    "                texts,  # batch of texts\n",
    "                annotations,  # batch of annotations\n",
    "                drop=0.5,  # dropout - make it harder to memorise data\n",
    "                losses=losses,\n",
    "            )\n",
    "        print(\"Losses\", losses)\n",
    "        "
   ]
  },
  {
   "cell_type": "code",
   "execution_count": null,
   "metadata": {},
   "outputs": [],
   "source": []
  },
  {
   "cell_type": "markdown",
   "metadata": {},
   "source": [
    "### Test the trained model"
   ]
  },
  {
   "cell_type": "code",
   "execution_count": 25,
   "metadata": {
    "ExecuteTime": {
     "end_time": "2020-06-28T21:08:29.223961Z",
     "start_time": "2020-06-28T21:08:29.178661Z"
    }
   },
   "outputs": [
    {
     "name": "stdout",
     "output_type": "stream",
     "text": [
      "Entities [('London', 'LOC'), ('Berlin', 'LOC')]\n",
      "Tokens [('I', '', 2), ('like', '', 2), ('London', 'LOC', 3), ('and', '', 2), ('Berlin', 'LOC', 3), ('.', '', 2)]\n",
      "Entities [('Shaka Khan', 'PERSON')]\n",
      "Tokens [('Who', '', 2), ('is', '', 2), ('Shaka', 'PERSON', 3), ('Khan', 'PERSON', 1), ('?', '', 2)]\n"
     ]
    }
   ],
   "source": [
    "# test the trained model\n",
    "for text, _ in TRAIN_DATA:\n",
    "    doc = nlp(text)\n",
    "    print(\"Entities\", [(ent.text, ent.label_) for ent in doc.ents])\n",
    "    print(\"Tokens\", [(t.text, t.ent_type_, t.ent_iob) for t in doc])"
   ]
  },
  {
   "cell_type": "code",
   "execution_count": 27,
   "metadata": {
    "ExecuteTime": {
     "end_time": "2020-06-28T21:10:12.659282Z",
     "start_time": "2020-06-28T21:09:58.686131Z"
    }
   },
   "outputs": [
    {
     "name": "stdout",
     "output_type": "stream",
     "text": [
      "Statring iteration 0\n",
      "{'ner': 47.07635166372347}\n",
      "Statring iteration 1\n",
      "{'ner': 3.310417786359703}\n",
      "Statring iteration 2\n",
      "{'ner': 1.99949655747491}\n",
      "Statring iteration 3\n",
      "{'ner': 1.4026618689367127}\n",
      "Statring iteration 4\n",
      "{'ner': 1.676383895302153}\n",
      "Statring iteration 5\n",
      "{'ner': 6.4542502900135545}\n",
      "Statring iteration 6\n",
      "{'ner': 3.7191266373405756}\n",
      "Statring iteration 7\n",
      "{'ner': 2.2737538025556354}\n",
      "Statring iteration 8\n",
      "{'ner': 5.482526095537221}\n",
      "Statring iteration 9\n",
      "{'ner': 0.7795053744254973}\n",
      "Statring iteration 10\n",
      "{'ner': 2.819928162995283}\n",
      "Statring iteration 11\n",
      "{'ner': 2.2508015325621544}\n",
      "Statring iteration 12\n",
      "{'ner': 1.6131304780371398}\n",
      "Statring iteration 13\n",
      "{'ner': 0.15742579413160138}\n",
      "Statring iteration 14\n",
      "{'ner': 1.9461783597948787}\n",
      "Statring iteration 15\n",
      "{'ner': 0.013275587068445376}\n",
      "Statring iteration 16\n",
      "{'ner': 6.915177632522351e-05}\n",
      "Statring iteration 17\n",
      "{'ner': 2.1704969131956125e-06}\n",
      "Statring iteration 18\n",
      "{'ner': 6.605839161582747e-06}\n",
      "Statring iteration 19\n",
      "{'ner': 1.414577497481693e-07}\n",
      "Enter your Model Name: k\n",
      "Enter your testing text: bottle\n"
     ]
    }
   ],
   "source": [
    "TRAIN_DATA = [('what is the price of polo?', {'entities': [(21, 25, 'PrdName')]}), \n",
    "              ('what is the price of ball?', {'entities': [(21, 25, 'PrdName')]}), \n",
    "              ('what is the price of jegging?', {'entities': [(21, 28, 'PrdName')]}), \n",
    "              ('what is the price of t-shirt?', {'entities': [(21, 28, 'PrdName')]}), \n",
    "              ('what is the price of jeans?', {'entities': [(21, 26, 'PrdName')]}), \n",
    "              ('what is the price of bat?', {'entities': [(21, 24, 'PrdName')]}), \n",
    "              ('what is the price of shirt?', {'entities': [(21, 26, 'PrdName')]}), \n",
    "              ('what is the price of bag?', {'entities': [(21, 24, 'PrdName')]}), \n",
    "              ('what is the price of cup?', {'entities': [(21, 24, 'PrdName')]}), \n",
    "              ('what is the price of jug?', {'entities': [(21, 24, 'PrdName')]}), \n",
    "              ('what is the price of plate?', {'entities': [(21, 26, 'PrdName')]}), \n",
    "              ('what is the price of glass?', {'entities': [(21, 26, 'PrdName')]}), \n",
    "              ('what is the price of moniter?', {'entities': [(21, 28, 'PrdName')]}), \n",
    "              ('what is the price of desktop?', {'entities': [(21, 28, 'PrdName')]}), \n",
    "              ('what is the price of bottle?', {'entities': [(21, 27, 'PrdName')]}), \n",
    "              ('what is the price of mouse?', {'entities': [(21, 26, 'PrdName')]}), \n",
    "              ('what is the price of keyboad?', {'entities': [(21, 28, 'PrdName')]}), \n",
    "              ('what is the price of chair?', {'entities': [(21, 26, 'PrdName')]}), \n",
    "              ('what is the price of table?', {'entities': [(21, 26, 'PrdName')]}), \n",
    "              ('what is the price of watch?', {'entities': [(21, 26, 'PrdName')]})]\n",
    "\n",
    "\n",
    "def train_spacy(data,iterations):\n",
    "    TRAIN_DATA = data\n",
    "    nlp = spacy.blank('en')  # create blank Language class\n",
    "    # create the built-in pipeline components and add them to the pipeline\n",
    "    # nlp.create_pipe works for built-ins that are registered with spaCy\n",
    "    if 'ner' not in nlp.pipe_names:\n",
    "        ner = nlp.create_pipe('ner')\n",
    "        nlp.add_pipe(ner, last=True)\n",
    "       \n",
    "\n",
    "    # add labels\n",
    "    for _, annotations in TRAIN_DATA:\n",
    "         for ent in annotations.get('entities'):\n",
    "            ner.add_label(ent[2])\n",
    "\n",
    "    # get names of other pipes to disable them during training\n",
    "    other_pipes = [pipe for pipe in nlp.pipe_names if pipe != 'ner']\n",
    "    with nlp.disable_pipes(*other_pipes):  # only train NER\n",
    "        optimizer = nlp.begin_training()\n",
    "        for itn in range(iterations):\n",
    "            print(\"Statring iteration \" + str(itn))\n",
    "            random.shuffle(TRAIN_DATA)\n",
    "            losses = {}\n",
    "            for text, annotations in TRAIN_DATA:\n",
    "                nlp.update(\n",
    "                    [text],  # batch of texts\n",
    "                    [annotations],  # batch of annotations\n",
    "                    drop=0.2,  # dropout - make it harder to memorise data\n",
    "                    sgd=optimizer,  # callable to update weights\n",
    "                    losses=losses)\n",
    "            print(losses)\n",
    "    return nlp\n",
    "\n",
    "\n",
    "prdnlp = train_spacy(TRAIN_DATA, 20)\n",
    "\n",
    "# Save our trained Model\n",
    "modelfile = input(\"Enter your Model Name: \")\n",
    "prdnlp.to_disk(modelfile)\n",
    "\n",
    "#Test your text\n",
    "test_text = input(\"Enter your testing text: \")\n",
    "doc = prdnlp(test_text)\n",
    "for ent in doc.ents:\n",
    "    print(ent.text, ent.start_char, ent.end_char, ent.label_)\n"
   ]
  },
  {
   "cell_type": "code",
   "execution_count": null,
   "metadata": {},
   "outputs": [],
   "source": []
  }
 ],
 "metadata": {
  "kernelspec": {
   "display_name": "Python 3",
   "language": "python",
   "name": "python3"
  },
  "language_info": {
   "codemirror_mode": {
    "name": "ipython",
    "version": 3
   },
   "file_extension": ".py",
   "mimetype": "text/x-python",
   "name": "python",
   "nbconvert_exporter": "python",
   "pygments_lexer": "ipython3",
   "version": "3.8.3"
  }
 },
 "nbformat": 4,
 "nbformat_minor": 2
}
