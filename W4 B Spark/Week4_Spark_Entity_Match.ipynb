{
 "cells": [
  {
   "cell_type": "code",
   "execution_count": null,
   "metadata": {},
   "outputs": [],
   "source": [
    "#!pip install pyspark"
   ]
  },
  {
   "cell_type": "code",
   "execution_count": 1,
   "metadata": {
    "ExecuteTime": {
     "end_time": "2020-06-28T18:14:16.109691Z",
     "start_time": "2020-06-28T18:14:12.898132Z"
    }
   },
   "outputs": [
    {
     "name": "stdout",
     "output_type": "stream",
     "text": [
      "Using Apache Spark Version 3.0.0\n"
     ]
    }
   ],
   "source": [
    "from pyspark.conf import SparkConf\n",
    "from pyspark import SparkContext\n",
    "from pyspark.sql import SQLContext\n",
    "sc = SparkContext() \n",
    "config = sc.getConf() \n",
    "sqlContext = SQLContext(sc)\n",
    "\n",
    "print(\"Using Apache Spark Version\", sc.version)\n"
   ]
  },
  {
   "cell_type": "code",
   "execution_count": 3,
   "metadata": {
    "ExecuteTime": {
     "end_time": "2020-06-28T18:15:20.085526Z",
     "start_time": "2020-06-28T18:15:15.148211Z"
    }
   },
   "outputs": [],
   "source": [
    "df = sqlContext.read.option(\"header\", \"true\").option(\"delimiter\", \",\") \\\n",
    "                    .option(\"inferSchema\", \"true\") \\\n",
    "                    .csv(\"/Users/arlenehuang/OneDrive - Columbia University/Summer 2020/APAN 5430/Assignment 4/cb_odm_092419.csv\")\n"
   ]
  },
  {
   "cell_type": "code",
   "execution_count": 4,
   "metadata": {
    "ExecuteTime": {
     "end_time": "2020-06-28T18:15:22.700202Z",
     "start_time": "2020-06-28T18:15:21.921646Z"
    }
   },
   "outputs": [
    {
     "data": {
      "text/plain": [
       "687755"
      ]
     },
     "execution_count": 4,
     "metadata": {},
     "output_type": "execute_result"
    }
   ],
   "source": [
    "df.count()"
   ]
  },
  {
   "cell_type": "code",
   "execution_count": 16,
   "metadata": {
    "ExecuteTime": {
     "end_time": "2020-06-28T18:22:47.561994Z",
     "start_time": "2020-06-28T18:22:47.448502Z"
    }
   },
   "outputs": [
    {
     "data": {
      "text/plain": [
       "Row(crunchbase_uuid='e1393508-30ea-8a36-3f96-dd3226033abd', name='Wetpaint', type='organization', primary_role='company', crunchbase_url='https://www.crunchbase.com/organization/wetpaint?utm_source=crunchbase&utm_medium=export&utm_campaign=odm_csv', homepage_domain='wetpaint.com', homepage_url='http://www.wetpaint.com/', profile_image_url='https://crunchbase-production-res.cloudinary.com/image/upload/c_lpad,h_120,w_120,f_jpg/v1397180177/2036b3394a37152e0ff69f27c71bc883.jpg', facebook_url='https://www.facebook.com/Wetpaint', twitter_url='https://twitter.com/wetpainttv', linkedin_url='https://www.linkedin.com/company/wetpaint', stock_symbol=':', location_city='New York', location_region='New York', location_country_code='US', short_description='Wetpaint offers an online social publishing platform that helps digital publishers grow their customer base.')"
      ]
     },
     "execution_count": 16,
     "metadata": {},
     "output_type": "execute_result"
    }
   ],
   "source": [
    "df.head()"
   ]
  },
  {
   "cell_type": "code",
   "execution_count": null,
   "metadata": {},
   "outputs": [],
   "source": []
  },
  {
   "cell_type": "code",
   "execution_count": 17,
   "metadata": {
    "ExecuteTime": {
     "end_time": "2020-06-28T18:27:42.755019Z",
     "start_time": "2020-06-28T18:27:41.713625Z"
    }
   },
   "outputs": [
    {
     "name": "stdout",
     "output_type": "stream",
     "text": [
      "+------------------------------------+--------------------------------------+------------------------+------------+\n",
      "|crunchbase_uuid                     |name                                  |homepage_domain         |stock_symbol|\n",
      "+------------------------------------+--------------------------------------+------------------------+------------+\n",
      "|756936c0-c335-f0ae-0a3d-fe26bdff5695|The Walt Disney Company               |thewaltdisneycompany.com|nyse:DIS    |\n",
      "|2b53f8fa-212f-3111-5a52-2255b5c484b3|Disney Interactive                    |disney.com              |:           |\n",
      "|99d8c3f2-da65-cb3a-4137-23aa4b07e5f7|The Disney Ride Classification Program|thedrcp.org             |:           |\n",
      "|8160fcd8-1dcd-1757-a720-e7f1be8052f8|Disney Mobile                         |disney.co.jp            |:           |\n",
      "|4f311e7e-8236-0028-cd91-66bf995c4a09|Disney Media Networks                 |thewaltdisneycompany.com|:           |\n",
      "|fbc4567c-9010-5ef2-f7ec-48d1d5aea50f|The Disney Store                      |disneystore.com         |:           |\n",
      "|2c96f86e-17ad-7ad6-17c1-33f70977374e|Disneyland Resort                     |go.com                  |:           |\n",
      "|439f869c-30d2-9c9d-c845-095a4a396156|Disney Publishing Worldwide           |disney.com              |:           |\n",
      "|2cfb8a1b-baac-908a-7645-510430aa97aa|Walt Disney Quotes                    |mywaltdisneyquotes.com  |:           |\n",
      "|0d34a6b3-09da-03d8-1493-7fed3e000233|Disney Map Apps                       |apptasmic.com           |:           |\n",
      "+------------------------------------+--------------------------------------+------------------------+------------+\n",
      "only showing top 10 rows\n",
      "\n"
     ]
    }
   ],
   "source": [
    "#match_df = df[df['name'].rlike(\"Apple\") & df['homepage_domain'].rlike(\"apple.com\")]\n",
    "match_df = df[df['name'].rlike(\"Disney\")]\n",
    "#match_df = df[df['name'].contains(\"Disney\")]\n",
    "#match_df = df.filter(df.homepage_domain.like('%columbia.edu%'))\n",
    "#match_df = df.filter(df.short_description.like('%electric car%'))\n",
    "match_df['crunchbase_uuid','name','homepage_domain','stock_symbol'].show(10, truncate=False)"
   ]
  },
  {
   "cell_type": "code",
   "execution_count": 6,
   "metadata": {
    "ExecuteTime": {
     "end_time": "2020-06-28T18:16:42.056140Z",
     "start_time": "2020-06-28T18:16:40.042042Z"
    }
   },
   "outputs": [
    {
     "name": "stdout",
     "output_type": "stream",
     "text": [
      "+---------------------------+-----+\n",
      "|name                       |count|\n",
      "+---------------------------+-----+\n",
      "|ClickZ                     |2    |\n",
      "|Prospection                |2    |\n",
      "|Xceed                      |2    |\n",
      "|Ember                      |2    |\n",
      "|Michelle Kaufmann Designs  |2    |\n",
      "|Kuros Biosciences          |2    |\n",
      "|S.A.D.                     |2    |\n",
      "|Exos                       |2    |\n",
      "|Enliven                    |2    |\n",
      "|Breezy                     |2    |\n",
      "|Nebula                     |3    |\n",
      "|Clerky                     |2    |\n",
      "|Muxi                       |2    |\n",
      "|Imagineering               |2    |\n",
      "|Pace Wisdom                |2    |\n",
      "|Index Systems              |2    |\n",
      "|Bunch                      |4    |\n",
      "|Gowheels                   |2    |\n",
      "|Layer                      |2    |\n",
      "|TearLab Corporation        |2    |\n",
      "|Kin                        |2    |\n",
      "|Hint                       |2    |\n",
      "|Joust                      |3    |\n",
      "|Highlands State Bank       |2    |\n",
      "|Violet Box                 |2    |\n",
      "|Nemesis                    |2    |\n",
      "|Echologics                 |2    |\n",
      "|Helium                     |3    |\n",
      "|Remedy                     |4    |\n",
      "|...                        |3    |\n",
      "|PROP                       |2    |\n",
      "|Superfly                   |2    |\n",
      "|Zaza                       |2    |\n",
      "|The Right Place            |2    |\n",
      "|Ox Engineering             |2    |\n",
      "|Software Technology, Inc.  |2    |\n",
      "|Tesseract                  |3    |\n",
      "|Pickles                    |2    |\n",
      "|Blend Media                |2    |\n",
      "|AdClear                    |2    |\n",
      "|Papaya                     |2    |\n",
      "|Novopay                    |2    |\n",
      "|Drishti                    |2    |\n",
      "|Sightsavers                |2    |\n",
      "|NestEgg                    |2    |\n",
      "|Clockwork                  |2    |\n",
      "|Swapsy                     |2    |\n",
      "|The Refinery               |2    |\n",
      "|Total                      |2    |\n",
      "|APX                        |3    |\n",
      "|Intersect                  |2    |\n",
      "|Track Data                 |2    |\n",
      "|iGo                        |2    |\n",
      "|Sortal                     |2    |\n",
      "|Medivation                 |2    |\n",
      "|Sqrrl                      |2    |\n",
      "|Aspen Systems              |2    |\n",
      "|Virtua                     |2    |\n",
      "|Verso                      |3    |\n",
      "|PayrollServe               |2    |\n",
      "|Rollick                    |2    |\n",
      "|Neff Corp.                 |2    |\n",
      "|Script                     |3    |\n",
      "|The Nation                 |2    |\n",
      "|Topbox                     |2    |\n",
      "|MeetApp                    |2    |\n",
      "|Ignition Group             |2    |\n",
      "|Indee Labs                 |2    |\n",
      "|Startle                    |2    |\n",
      "|Astra                      |4    |\n",
      "|Radar                      |3    |\n",
      "|SLM Solutions Group AG     |2    |\n",
      "|Fincheck                   |2    |\n",
      "|EasyChange                 |2    |\n",
      "|Extend                     |3    |\n",
      "|FunBox                     |2    |\n",
      "|Phoenix Digital Agency     |2    |\n",
      "|TMR Technology             |2    |\n",
      "|Turtle                     |2    |\n",
      "|Deliverr                   |2    |\n",
      "|Zervos & Calta, PLLC       |3    |\n",
      "|Pandora                    |3    |\n",
      "|Advertising.com            |2    |\n",
      "|Mooch                      |2    |\n",
      "|Absolute Media             |2    |\n",
      "|Matrix Technologies        |2    |\n",
      "|Chango                     |2    |\n",
      "|eTeam                      |2    |\n",
      "|Just Dial                  |2    |\n",
      "|EMS Technologies           |2    |\n",
      "|ONO                        |2    |\n",
      "|Thread                     |3    |\n",
      "|Boomerang                  |3    |\n",
      "|Silkworks                  |2    |\n",
      "|Anglo American             |2    |\n",
      "|Tradeflow                  |2    |\n",
      "|Swim                       |2    |\n",
      "|QualiTest Group            |2    |\n",
      "|Hype                       |4    |\n",
      "|Turing                     |3    |\n",
      "|Canvas                     |9    |\n",
      "|Fuse                       |4    |\n",
      "|Porter                     |4    |\n",
      "|Siren                      |3    |\n",
      "|Hammerspace                |2    |\n",
      "|Human Unlimited            |2    |\n",
      "|Advocate                   |2    |\n",
      "|Pacific Energy             |3    |\n",
      "|iGrow                      |2    |\n",
      "|Digita                     |2    |\n",
      "|Toybox                     |2    |\n",
      "|Tomorrow                   |2    |\n",
      "|NetPay                     |2    |\n",
      "|IMS Software               |2    |\n",
      "|Hypernet                   |2    |\n",
      "|Tika                       |2    |\n",
      "|VantagePoint               |2    |\n",
      "|Code Camp                  |2    |\n",
      "|Green Card Status & Renewal|2    |\n",
      "|Venture Technologies       |2    |\n",
      "|ITN                        |2    |\n",
      "|Moveo                      |2    |\n",
      "|Speakeasy                  |7    |\n",
      "|Smartrac                   |2    |\n",
      "|Outfront Media             |2    |\n",
      "|Avail                      |2    |\n",
      "|Phoenix                    |2    |\n",
      "|Sherpa Design              |2    |\n",
      "|IPX                        |2    |\n",
      "|BioCardia                  |2    |\n",
      "|Piccolo                    |4    |\n",
      "|Biocell                    |2    |\n",
      "|Rewind                     |3    |\n",
      "|Digify                     |2    |\n",
      "|Brainsway                  |2    |\n",
      "+---------------------------+-----+\n",
      "only showing top 135 rows\n",
      "\n"
     ]
    }
   ],
   "source": [
    "from pyspark.sql.functions import *\n",
    "\n",
    "dupes = df.groupBy('name') \\\n",
    "          .agg(count('name').alias(\"count\")) \\\n",
    "          .filter(col('count') > 1) # we filter dupes\n",
    "\n",
    "dupes.show(135,truncate=False)\n"
   ]
  },
  {
   "cell_type": "code",
   "execution_count": null,
   "metadata": {},
   "outputs": [],
   "source": []
  }
 ],
 "metadata": {
  "kernelspec": {
   "display_name": "Python 3",
   "language": "python",
   "name": "python3"
  },
  "language_info": {
   "codemirror_mode": {
    "name": "ipython",
    "version": 3
   },
   "file_extension": ".py",
   "mimetype": "text/x-python",
   "name": "python",
   "nbconvert_exporter": "python",
   "pygments_lexer": "ipython3",
   "version": "3.8.3"
  }
 },
 "nbformat": 4,
 "nbformat_minor": 2
}
